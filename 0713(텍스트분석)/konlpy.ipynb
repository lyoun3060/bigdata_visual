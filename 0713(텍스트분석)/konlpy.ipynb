{
 "cells": [
  {
   "cell_type": "markdown",
   "metadata": {},
   "source": [
    "# KoNLPy 설치\n",
    "- java 환경변수 설정 해야함\n",
    "    - JAVA_HOME 추가 -> 경로는 jre로 하면됨 bin이전까지)\n",
    "    - PATH 편집 -> %JAVA_HOME%\\bin 추가\n",
    "\n",
    "- \n",
    "- Jpype 다운로드 : https://www.lfd.uci.edu/~gohlke/pythonlibs/#jpype\n",
    "\n",
    "- Jpype를 각자 파이썬 버전에 맞게(강사님의 경우에는 3.10버전) 다운로드 받아주세요!\n",
    "\n",
    "- JPype1-1.4.0-cp310-cp10-win_amd64.whl\n",
    "\n",
    "- pip install C:\\ksj(들어있는 파일)\\JPype1-1.4.0-cp310-cp310-win_amd64.whl\n",
    "\n",
    "- pip install konlpy\n"
   ]
  },
  {
   "cell_type": "code",
   "execution_count": 1,
   "metadata": {},
   "outputs": [],
   "source": [
    "from konlpy.tag import *\n",
    "Hannanum =Hannanum()"
   ]
  }
 ],
 "metadata": {
  "kernelspec": {
   "display_name": "base",
   "language": "python",
   "name": "python3"
  },
  "language_info": {
   "codemirror_mode": {
    "name": "ipython",
    "version": 3
   },
   "file_extension": ".py",
   "mimetype": "text/x-python",
   "name": "python",
   "nbconvert_exporter": "python",
   "pygments_lexer": "ipython3",
   "version": "3.10.9"
  },
  "orig_nbformat": 4
 },
 "nbformat": 4,
 "nbformat_minor": 2
}
