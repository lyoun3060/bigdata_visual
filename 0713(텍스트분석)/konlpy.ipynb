{
 "cells": [
  {
   "cell_type": "markdown",
   "metadata": {},
   "source": [
    "# KoNLPy 설치\n",
    "- java 환경변수 설정 해야함\n",
    "    - JAVA_HOME 추가 -> 경로는 jre로 하면됨 bin이전까지)\n",
    "    - PATH 편집 -> %JAVA_HOME%\\bin 추가\n",
    "\n",
    "- \n",
    "- Jpype 다운로드 : https://www.lfd.uci.edu/~gohlke/pythonlibs/#jpype\n",
    "\n",
    "- Jpype를 각자 파이썬 버전에 맞게(강사님의 경우에는 3.10버전) 다운로드 받아주세요!\n",
    "\n",
    "- JPype1-1.4.0-cp310-cp10-win_amd64.whl\n",
    "\n",
    "- pip install C:\\ksj(들어있는 파일)\\JPype1-1.4.0-cp310-cp310-win_amd64.whl\n",
    "\n",
    "- pip install konlpy\n"
   ]
  },
  {
   "cell_type": "markdown",
   "metadata": {},
   "source": [
    "# 형태소 분석 \n",
    "- konlpy의 형태소 분석, 태깅 라이브러리\n",
    "  - Hannanum :한나눔. KAIST Semantic Web Research Center 개발\n",
    "    - http://semanticweb.kaist.ac.kr/hannanum/\n",
    "\n",
    "  - Kkma: 꼬꼬마. 서울대학교 IDS(Intelligent Data Systems) 연구실 개발.\n",
    "    - http://kkma.snu.ac.kr/\n",
    "\n",
    "  - Komoran: 코모란. Shineware에서 개발.\n",
    "    - https://github.com/shin285/KOMORAN\n",
    "\n",
    "  - Open Korean Text: 오픈 소스 한국어 분석기. 과거 트위터 형태소 분석기.\n",
    "    - https://github.com/open-korean-text/open-korean-text\n",
    "\n",
    "- 여기에서는 한나눔, 꼬꼬마, 오픈코리안텍스트 형태소만 예제로 포함하였다."
   ]
  },
  {
   "cell_type": "markdown",
   "metadata": {},
   "source": [
    " - 형태소 분석기 공통적 기능\n",
    "    - nouns : 명사추출\n",
    "    - morphs : 형태소 추출\n",
    "    - pos 형태소 추출과 품사태깅"
   ]
  },
  {
   "cell_type": "code",
   "execution_count": 19,
   "metadata": {},
   "outputs": [
    {
     "data": {
      "text/plain": [
       "'0.6.0'"
      ]
     },
     "execution_count": 19,
     "metadata": {},
     "output_type": "execute_result"
    }
   ],
   "source": [
    "from konlpy.tag import *\n",
    "Hannanum =Hannanum()\n",
    "kkma = Kkma()\n",
    "komoran = Komoran()\n",
    "okt = Okt()\n",
    "import konlpy\n",
    "konlpy.__version__"
   ]
  },
  {
   "cell_type": "code",
   "execution_count": 6,
   "metadata": {},
   "outputs": [
    {
     "data": {
      "text/plain": [
       "['constitution.txt']"
      ]
     },
     "execution_count": 6,
     "metadata": {},
     "output_type": "execute_result"
    }
   ],
   "source": [
    "#대한민국 헌법 말뭉치 가져오기\n",
    "from konlpy.corpus import kolaw\n",
    "kolaw.fileids()"
   ]
  },
  {
   "cell_type": "code",
   "execution_count": 21,
   "metadata": {},
   "outputs": [
    {
     "name": "stdout",
     "output_type": "stream",
     "text": [
      "대한민국헌법\n",
      "\n",
      "유구한 역사와 전통에 빛나는 우리 대한국민은 3·1운동으로 건립된 대한민국임\n"
     ]
    }
   ],
   "source": [
    "c=kolaw.open('constitution.txt').read()\n",
    "print(c[:50])"
   ]
  },
  {
   "cell_type": "code",
   "execution_count": 16,
   "metadata": {},
   "outputs": [
    {
     "data": {
      "text/plain": [
       "['1809890.txt',\n",
       " '1809891.txt',\n",
       " '1809892.txt',\n",
       " '1809893.txt',\n",
       " '1809894.txt',\n",
       " '1809895.txt',\n",
       " '1809896.txt',\n",
       " '1809897.txt',\n",
       " '1809898.txt',\n",
       " '1809899.txt']"
      ]
     },
     "execution_count": 16,
     "metadata": {},
     "output_type": "execute_result"
    }
   ],
   "source": [
    "from konlpy.corpus import kobill\n",
    "kobill.fileids()"
   ]
  },
  {
   "cell_type": "code",
   "execution_count": 24,
   "metadata": {},
   "outputs": [
    {
     "name": "stdout",
     "output_type": "stream",
     "text": [
      "지방공무원법 일부개정법률안\n",
      "\n",
      "(정의화의원 대표발의 )\n",
      "\n",
      " 의 안\n",
      " 번 호\n",
      "\n",
      "9890\n",
      "\n",
      "발의\n"
     ]
    }
   ],
   "source": [
    "d = kobill.open('1809890.txt').read()\n",
    "print(d[:50])"
   ]
  },
  {
   "cell_type": "code",
   "execution_count": 34,
   "metadata": {},
   "outputs": [
    {
     "data": {
      "text/plain": [
       "['대한민국헌법', '유구', '역사', '전통', '빛', '우리', '대한국민', '3·1운동', '건립', '대한민국임']"
      ]
     },
     "execution_count": 34,
     "metadata": {},
     "output_type": "execute_result"
    }
   ],
   "source": [
    "Hannanum.nouns(c[:50])\n"
   ]
  },
  {
   "cell_type": "code",
   "execution_count": 35,
   "metadata": {},
   "outputs": [
    {
     "data": {
      "text/plain": [
       "['대한',\n",
       " '대한민국',\n",
       " '대한민국헌법',\n",
       " '민국',\n",
       " '헌법',\n",
       " '유구',\n",
       " '역사',\n",
       " '전통',\n",
       " '우리',\n",
       " '국민',\n",
       " '3',\n",
       " '1',\n",
       " '1운동',\n",
       " '운동',\n",
       " '건립',\n",
       " '대한민국임',\n",
       " '임']"
      ]
     },
     "execution_count": 35,
     "metadata": {},
     "output_type": "execute_result"
    }
   ],
   "source": [
    "kkma.nouns(c[:50])"
   ]
  },
  {
   "cell_type": "code",
   "execution_count": 38,
   "metadata": {},
   "outputs": [
    {
     "data": {
      "text/plain": [
       "['대한민국', '헌법', '역사', '전통', '국민', '운동', '건립', '대한민국', '임']"
      ]
     },
     "execution_count": 38,
     "metadata": {},
     "output_type": "execute_result"
    }
   ],
   "source": [
    "komoran.nouns(c[:50])\n"
   ]
  },
  {
   "cell_type": "code",
   "execution_count": 40,
   "metadata": {},
   "outputs": [
    {
     "data": {
      "text/plain": [
       "['대한민국', '헌법', '유구', '역사', '전통', '우리', '국민', '운동', '건립', '대한민국', '임']"
      ]
     },
     "execution_count": 40,
     "metadata": {},
     "output_type": "execute_result"
    }
   ],
   "source": [
    "okt.nouns(c[:50])"
   ]
  },
  {
   "cell_type": "code",
   "execution_count": 43,
   "metadata": {},
   "outputs": [
    {
     "data": {
      "text/plain": [
       "[('나', 'Noun'),\n",
       " ('는', 'Josa'),\n",
       " ('자랑스러운', 'Adjective'),\n",
       " ('대한민국', 'Noun'),\n",
       " ('육', 'Modifier'),\n",
       " ('군입', 'Noun'),\n",
       " ('니까', 'Josa'),\n",
       " ('???', 'Punctuation'),\n",
       " ('ㅗ', 'KoreanParticle')]"
      ]
     },
     "execution_count": 43,
     "metadata": {},
     "output_type": "execute_result"
    }
   ],
   "source": [
    "s='나는 자랑스러운 대한민국 육군입니까??? ㅗ'\n",
    "okt.pos(s)"
   ]
  },
  {
   "cell_type": "code",
   "execution_count": 44,
   "metadata": {},
   "outputs": [
    {
     "data": {
      "text/plain": [
       "['나', '는', '자랑스러운', '대한민국', '육', '군입', '니까', '???', 'ㅗ']"
      ]
     },
     "execution_count": 44,
     "metadata": {},
     "output_type": "execute_result"
    }
   ],
   "source": [
    "okt.morphs(s)"
   ]
  }
 ],
 "metadata": {
  "kernelspec": {
   "display_name": "base",
   "language": "python",
   "name": "python3"
  },
  "language_info": {
   "codemirror_mode": {
    "name": "ipython",
    "version": 3
   },
   "file_extension": ".py",
   "mimetype": "text/x-python",
   "name": "python",
   "nbconvert_exporter": "python",
   "pygments_lexer": "ipython3",
   "version": "3.10.9"
  },
  "orig_nbformat": 4
 },
 "nbformat": 4,
 "nbformat_minor": 2
}
