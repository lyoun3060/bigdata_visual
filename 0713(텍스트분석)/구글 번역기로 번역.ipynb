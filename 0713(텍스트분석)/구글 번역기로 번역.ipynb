{
 "cells": [
  {
   "cell_type": "code",
   "execution_count": 1,
   "metadata": {},
   "outputs": [
    {
     "name": "stdout",
     "output_type": "stream",
     "text": [
      "Requirement already satisfied: googletrans==4.0.0-rc1 in c:\\users\\it\\anaconda3\\lib\\site-packages (4.0.0rc1)\n",
      "Requirement already satisfied: httpx==0.13.3 in c:\\users\\it\\anaconda3\\lib\\site-packages (from googletrans==4.0.0-rc1) (0.13.3)\n",
      "Requirement already satisfied: httpcore==0.9.* in c:\\users\\it\\anaconda3\\lib\\site-packages (from httpx==0.13.3->googletrans==4.0.0-rc1) (0.9.1)\n",
      "Requirement already satisfied: sniffio in c:\\users\\it\\anaconda3\\lib\\site-packages (from httpx==0.13.3->googletrans==4.0.0-rc1) (1.2.0)\n",
      "Requirement already satisfied: certifi in c:\\users\\it\\anaconda3\\lib\\site-packages (from httpx==0.13.3->googletrans==4.0.0-rc1) (2022.12.7)\n",
      "Requirement already satisfied: hstspreload in c:\\users\\it\\anaconda3\\lib\\site-packages (from httpx==0.13.3->googletrans==4.0.0-rc1) (2023.1.1)\n",
      "Requirement already satisfied: rfc3986<2,>=1.3 in c:\\users\\it\\anaconda3\\lib\\site-packages (from httpx==0.13.3->googletrans==4.0.0-rc1) (1.5.0)\n",
      "Requirement already satisfied: idna==2.* in c:\\users\\it\\anaconda3\\lib\\site-packages (from httpx==0.13.3->googletrans==4.0.0-rc1) (2.10)\n",
      "Requirement already satisfied: chardet==3.* in c:\\users\\it\\anaconda3\\lib\\site-packages (from httpx==0.13.3->googletrans==4.0.0-rc1) (3.0.4)\n",
      "Requirement already satisfied: h11<0.10,>=0.8 in c:\\users\\it\\anaconda3\\lib\\site-packages (from httpcore==0.9.*->httpx==0.13.3->googletrans==4.0.0-rc1) (0.9.0)\n",
      "Requirement already satisfied: h2==3.* in c:\\users\\it\\anaconda3\\lib\\site-packages (from httpcore==0.9.*->httpx==0.13.3->googletrans==4.0.0-rc1) (3.2.0)\n",
      "Requirement already satisfied: hyperframe<6,>=5.2.0 in c:\\users\\it\\anaconda3\\lib\\site-packages (from h2==3.*->httpcore==0.9.*->httpx==0.13.3->googletrans==4.0.0-rc1) (5.2.0)\n",
      "Requirement already satisfied: hpack<4,>=3.0 in c:\\users\\it\\anaconda3\\lib\\site-packages (from h2==3.*->httpcore==0.9.*->httpx==0.13.3->googletrans==4.0.0-rc1) (3.0.0)\n"
     ]
    }
   ],
   "source": [
    "! pip install googletrans==4.0.0-rc1\n"
   ]
  },
  {
   "cell_type": "code",
   "execution_count": 2,
   "metadata": {},
   "outputs": [
    {
     "name": "stdout",
     "output_type": "stream",
     "text": [
      "Arafah에 대한 6 단계 계획\n",
      "12 시간도 채되지 않아 우리는 알라의 시야 : 아라파의 날에 평등하지 않은 것으로 묘사 된 선지자 (톱)가 하루를 목격 할 것입니다.\n",
      "\n",
      "Dhul Hijjah의 9 번째 날인 Arafah는 거대한 신성과 미덕의 날이며, 수백만 명의 신자들이 하나님에 의해 용서 받고 불에서 해방되는 날입니다.그것은 하즈 순례의 절정으로, 순례자들이 매년 아라파의 산 평원에 모여 그의 생애가 끝날 무렵, 하즈를 완성한 후 선지자 (톱) 최종 설교의 부지에서 하나님의 용서를 간청합니다.우리 중 많은 사람들이 평생의 여정을 만들지 못할 수도 있지만, 우리 자신의 집의 안락함 에서이 길조의 날에 축적 할 헤아릴 수없는 보상이 여전히 남아 있습니다.당신이 세상 어디에 있든, 아라파의 날은 당신을위한 것입니다.\n",
      "\n",
      "\n",
      "우리 모두는 성공의 비결이 계획이라는 것을 알고 있습니다!따라서 우리는‘Arafah에 대한 6 단계 계획’을 가져 오기 위해 Anas (RA)가 미덕에서 10,000 일에 해당하는 날을 놓치지 않도록합니다.\n",
      "이 5 분짜리 읽기는 Arafah가 끝나고 Eid가 시작되면 후회하지 않을 것임을 보장하는 데 도움이됩니다.\n"
     ]
    }
   ],
   "source": [
    "from googletrans import Translator\n",
    "\n",
    "translator = Translator()\n",
    "\n",
    "# 번역할 문장\n",
    "sentence = '''Your 6 Step Plan to Acing Arafah\n",
    "In less than 12 hours we will witness a day the Prophet (saw) described as having no equal in the sight of Allah: the day of Arafah.\n",
    "\n",
    "Arafah, the 9th day of Dhul Hijjah, is a day of immense sanctity and virtue, the day millions of believers are forgiven by God and freed from the Fire. It is the climax of the Hajj pilgrimage, where pilgrims gather at the mountain plain of Arafah every year to beseech God’s forgiveness at the site of the Prophet’s (saw) final sermon after completing Hajj, near the end of his life. Many of us may be unable to make the journey of a lifetime, yet there are still immeasurable rewards to accumulate on this auspicious day from the comfort of our own homes. Wherever you are in the world, the day of Arafah is for you.\n",
    "\n",
    "\n",
    "We all know the secret to success is planning! So we bring you ‘Your 6-Step Plan to Acing Arafah’ to ensure you don’t miss out on a day that Anas (ra) said is equal to 10,000 days in virtue.\n",
    "This 5-minute read will help guarantee that once Arafah ends and Eid begins, you won’t have any regrets.'''\n",
    "\n",
    "# 번역\n",
    "translated = translator.translate(sentence, dest='ko')\n",
    "\n",
    "# 번역 결과 출력\n",
    "print(translated.text)"
   ]
  }
 ],
 "metadata": {
  "kernelspec": {
   "display_name": "base",
   "language": "python",
   "name": "python3"
  },
  "language_info": {
   "codemirror_mode": {
    "name": "ipython",
    "version": 3
   },
   "file_extension": ".py",
   "mimetype": "text/x-python",
   "name": "python",
   "nbconvert_exporter": "python",
   "pygments_lexer": "ipython3",
   "version": "3.10.9"
  },
  "orig_nbformat": 4
 },
 "nbformat": 4,
 "nbformat_minor": 2
}
