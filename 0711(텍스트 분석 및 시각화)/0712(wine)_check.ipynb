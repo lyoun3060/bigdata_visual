{
 "cells": [
  {
   "cell_type": "markdown",
   "metadata": {},
   "source": [
    "# 과제목표\n",
    "1. 와인의 type과 quality로 groupby를 하여 alchol의 평균을 구해라\n",
    "2. 와인의 quality로 groupby를 하여 alcohol의 평균과 표준편차를 구하라\n",
    "3. 와인의 quality로 groupby를 하여 alcohol의 [ 평균, 분산(var)], pH의 [중앙값(median)과 합]을 구하라\n",
    "2. 와인의 type과 quality로 groupby를 하여 alcohol의 [평균과 중앙값]을 구하라"
   ]
  },
  {
   "cell_type": "code",
   "execution_count": 11,
   "metadata": {},
   "outputs": [
    {
     "name": "stdout",
     "output_type": "stream",
     "text": [
      "<class 'pandas.core.frame.DataFrame'>\n",
      "RangeIndex: 1599 entries, 0 to 1598\n",
      "Data columns (total 12 columns):\n",
      " #   Column                Non-Null Count  Dtype  \n",
      "---  ------                --------------  -----  \n",
      " 0   fixed acidity         1599 non-null   float64\n",
      " 1   volatile acidity      1599 non-null   float64\n",
      " 2   citric acid           1599 non-null   float64\n",
      " 3   residual sugar        1599 non-null   float64\n",
      " 4   chlorides             1599 non-null   float64\n",
      " 5   free sulfur dioxide   1599 non-null   float64\n",
      " 6   total sulfur dioxide  1599 non-null   float64\n",
      " 7   density               1599 non-null   float64\n",
      " 8   pH                    1599 non-null   float64\n",
      " 9   sulphates             1599 non-null   float64\n",
      " 10  alcohol               1599 non-null   float64\n",
      " 11  quality               1599 non-null   int64  \n",
      "dtypes: float64(11), int64(1)\n",
      "memory usage: 150.0 KB\n",
      "<class 'pandas.core.frame.DataFrame'>\n",
      "RangeIndex: 4898 entries, 0 to 4897\n",
      "Data columns (total 12 columns):\n",
      " #   Column                Non-Null Count  Dtype  \n",
      "---  ------                --------------  -----  \n",
      " 0   fixed acidity         4898 non-null   float64\n",
      " 1   volatile acidity      4898 non-null   float64\n",
      " 2   citric acid           4898 non-null   float64\n",
      " 3   residual sugar        4898 non-null   float64\n",
      " 4   chlorides             4898 non-null   float64\n",
      " 5   free sulfur dioxide   4898 non-null   float64\n",
      " 6   total sulfur dioxide  4898 non-null   float64\n",
      " 7   density               4898 non-null   float64\n",
      " 8   pH                    4898 non-null   float64\n",
      " 9   sulphates             4898 non-null   float64\n",
      " 10  alcohol               4898 non-null   float64\n",
      " 11  quality               4898 non-null   int64  \n",
      "dtypes: float64(11), int64(1)\n",
      "memory usage: 459.3 KB\n"
     ]
    }
   ],
   "source": [
    "import pandas as pd\n",
    "\n",
    "red_wine_df = pd.read_csv('data/winequality-red.csv', sep=';')\n",
    "white_wine_df = pd.read_csv('data/winequality-white.csv', sep=';')\n",
    "red_wine_df.to_csv('Test/winequality-red1.csv', index=False)\n",
    "white_wine_df.to_csv('test/winequality-white1.csv', index=False)\n",
    "\n",
    "red_wine_df.info()\n",
    "white_wine_df.info()"
   ]
  },
  {
   "cell_type": "code",
   "execution_count": 12,
   "metadata": {},
   "outputs": [
    {
     "name": "stdout",
     "output_type": "stream",
     "text": [
      "   fixed acidity  volatile acidity  citric acid  residual sugar  chlorides  \\\n",
      "0            7.4              0.70         0.00             1.9      0.076   \n",
      "1            7.8              0.88         0.00             2.6      0.098   \n",
      "2            7.8              0.76         0.04             2.3      0.092   \n",
      "3           11.2              0.28         0.56             1.9      0.075   \n",
      "4            7.4              0.70         0.00             1.9      0.076   \n",
      "\n",
      "   free sulfur dioxide  total sulfur dioxide  density    pH  sulphates  \\\n",
      "0                 11.0                  34.0   0.9978  3.51       0.56   \n",
      "1                 25.0                  67.0   0.9968  3.20       0.68   \n",
      "2                 15.0                  54.0   0.9970  3.26       0.65   \n",
      "3                 17.0                  60.0   0.9980  3.16       0.58   \n",
      "4                 11.0                  34.0   0.9978  3.51       0.56   \n",
      "\n",
      "   alcohol  quality  \n",
      "0      9.4        5  \n",
      "1      9.8        5  \n",
      "2      9.8        5  \n",
      "3      9.8        6  \n",
      "4      9.4        5  \n"
     ]
    }
   ],
   "source": [
    "print(red_wine_df.head())"
   ]
  },
  {
   "cell_type": "code",
   "execution_count": 14,
   "metadata": {},
   "outputs": [
    {
     "name": "stdout",
     "output_type": "stream",
     "text": [
      "  type  fixed acidity  volatile acidity  citric acid  residual sugar  \\\n",
      "0  red            7.4              0.70         0.00             1.9   \n",
      "1  red            7.8              0.88         0.00             2.6   \n",
      "2  red            7.8              0.76         0.04             2.3   \n",
      "3  red           11.2              0.28         0.56             1.9   \n",
      "4  red            7.4              0.70         0.00             1.9   \n",
      "\n",
      "   chlorides  free sulfur dioxide  total sulfur dioxide  density    pH  \\\n",
      "0      0.076                 11.0                  34.0   0.9978  3.51   \n",
      "1      0.098                 25.0                  67.0   0.9968  3.20   \n",
      "2      0.092                 15.0                  54.0   0.9970  3.26   \n",
      "3      0.075                 17.0                  60.0   0.9980  3.16   \n",
      "4      0.076                 11.0                  34.0   0.9978  3.51   \n",
      "\n",
      "   sulphates  alcohol  quality  \n",
      "0       0.56      9.4        5  \n",
      "1       0.68      9.8        5  \n",
      "2       0.65      9.8        5  \n",
      "3       0.58      9.8        6  \n",
      "4       0.56      9.4        5  \n",
      "    type  fixed acidity  volatile acidity  citric acid  residual sugar  \\\n",
      "0  white            7.0              0.27         0.36            20.7   \n",
      "1  white            6.3              0.30         0.34             1.6   \n",
      "2  white            8.1              0.28         0.40             6.9   \n",
      "3  white            7.2              0.23         0.32             8.5   \n",
      "4  white            7.2              0.23         0.32             8.5   \n",
      "\n",
      "   chlorides  free sulfur dioxide  total sulfur dioxide  density    pH  \\\n",
      "0      0.045                 45.0                 170.0   1.0010  3.00   \n",
      "1      0.049                 14.0                 132.0   0.9940  3.30   \n",
      "2      0.050                 30.0                  97.0   0.9951  3.26   \n",
      "3      0.058                 47.0                 186.0   0.9956  3.19   \n",
      "4      0.058                 47.0                 186.0   0.9956  3.19   \n",
      "\n",
      "   sulphates  alcohol  quality  \n",
      "0       0.45      8.8        6  \n",
      "1       0.49      9.5        6  \n",
      "2       0.44     10.1        6  \n",
      "3       0.40      9.9        6  \n",
      "4       0.40      9.9        6  \n"
     ]
    }
   ],
   "source": [
    "red_wine_df.insert(0, column='type', value='red')\n",
    "white_wine_df.insert(0, column='type', value='white')\n",
    "\n",
    "print(red_wine_df.head())\n",
    "print(white_wine_df.head())"
   ]
  },
  {
   "cell_type": "code",
   "execution_count": 15,
   "metadata": {},
   "outputs": [
    {
     "name": "stdout",
     "output_type": "stream",
     "text": [
      "<class 'pandas.core.frame.DataFrame'>\n",
      "Int64Index: 6497 entries, 0 to 4897\n",
      "Data columns (total 13 columns):\n",
      " #   Column                Non-Null Count  Dtype  \n",
      "---  ------                --------------  -----  \n",
      " 0   type                  6497 non-null   object \n",
      " 1   fixed acidity         6497 non-null   float64\n",
      " 2   volatile acidity      6497 non-null   float64\n",
      " 3   citric acid           6497 non-null   float64\n",
      " 4   residual sugar        6497 non-null   float64\n",
      " 5   chlorides             6497 non-null   float64\n",
      " 6   free sulfur dioxide   6497 non-null   float64\n",
      " 7   total sulfur dioxide  6497 non-null   float64\n",
      " 8   density               6497 non-null   float64\n",
      " 9   pH                    6497 non-null   float64\n",
      " 10  sulphates             6497 non-null   float64\n",
      " 11  alcohol               6497 non-null   float64\n",
      " 12  quality               6497 non-null   int64  \n",
      "dtypes: float64(11), int64(1), object(1)\n",
      "memory usage: 710.6+ KB\n"
     ]
    }
   ],
   "source": [
    "wine = pd.concat([red_wine_df, white_wine_df])\n",
    "wine.info()"
   ]
  },
  {
   "cell_type": "code",
   "execution_count": 17,
   "metadata": {},
   "outputs": [
    {
     "name": "stdout",
     "output_type": "stream",
     "text": [
      "  type  fixed_acidity  volatile_acidity  citric_acid  residual_sugar  \\\n",
      "0  red            7.4              0.70         0.00             1.9   \n",
      "1  red            7.8              0.88         0.00             2.6   \n",
      "2  red            7.8              0.76         0.04             2.3   \n",
      "3  red           11.2              0.28         0.56             1.9   \n",
      "4  red            7.4              0.70         0.00             1.9   \n",
      "\n",
      "   chlorides  free_sulfur_dioxide  total_sulfur_dioxide  density    pH  \\\n",
      "0      0.076                 11.0                  34.0   0.9978  3.51   \n",
      "1      0.098                 25.0                  67.0   0.9968  3.20   \n",
      "2      0.092                 15.0                  54.0   0.9970  3.26   \n",
      "3      0.075                 17.0                  60.0   0.9980  3.16   \n",
      "4      0.076                 11.0                  34.0   0.9978  3.51   \n",
      "\n",
      "   sulphates  alcohol  quality  \n",
      "0       0.56      9.4        5  \n",
      "1       0.68      9.8        5  \n",
      "2       0.65      9.8        5  \n",
      "3       0.58      9.8        6  \n",
      "4       0.56      9.4        5  \n"
     ]
    }
   ],
   "source": [
    "wine.columns = wine.columns.str.replace(' ', '_')\n",
    "print(wine.head())"
   ]
  },
  {
   "cell_type": "markdown",
   "metadata": {},
   "source": [
    "1. 와인의 type과 quality로 groupby를 하여 alchol의 평균을 구해라\n",
    "2. 와인의 quality로 groupby를 하여 alcohol의 평균과 표준편차를 구하라\n",
    "3. 와인의 quality로 groupby를 하여 alcohol의 [ 평균, 분산(var)], pH의 [중앙값(median)과 합]을 구하라\n",
    "2. 와인의 type과 quality로 groupby를 하여 alcohol의 [평균과 중앙값]을 구하라"
   ]
  },
  {
   "cell_type": "code",
   "execution_count": 25,
   "metadata": {},
   "outputs": [
    {
     "data": {
      "text/html": [
       "<div>\n",
       "<style scoped>\n",
       "    .dataframe tbody tr th:only-of-type {\n",
       "        vertical-align: middle;\n",
       "    }\n",
       "\n",
       "    .dataframe tbody tr th {\n",
       "        vertical-align: top;\n",
       "    }\n",
       "\n",
       "    .dataframe thead th {\n",
       "        text-align: right;\n",
       "    }\n",
       "</style>\n",
       "<table border=\"1\" class=\"dataframe\">\n",
       "  <thead>\n",
       "    <tr style=\"text-align: right;\">\n",
       "      <th></th>\n",
       "      <th></th>\n",
       "      <th>mean</th>\n",
       "      <th>std</th>\n",
       "    </tr>\n",
       "    <tr>\n",
       "      <th>type</th>\n",
       "      <th>quality</th>\n",
       "      <th></th>\n",
       "      <th></th>\n",
       "    </tr>\n",
       "  </thead>\n",
       "  <tbody>\n",
       "    <tr>\n",
       "      <th rowspan=\"6\" valign=\"top\">red</th>\n",
       "      <th>3</th>\n",
       "      <td>9.955000</td>\n",
       "      <td>0.818009</td>\n",
       "    </tr>\n",
       "    <tr>\n",
       "      <th>4</th>\n",
       "      <td>10.265094</td>\n",
       "      <td>0.934776</td>\n",
       "    </tr>\n",
       "    <tr>\n",
       "      <th>5</th>\n",
       "      <td>9.899706</td>\n",
       "      <td>0.736521</td>\n",
       "    </tr>\n",
       "    <tr>\n",
       "      <th>6</th>\n",
       "      <td>10.629519</td>\n",
       "      <td>1.049639</td>\n",
       "    </tr>\n",
       "    <tr>\n",
       "      <th>7</th>\n",
       "      <td>11.465913</td>\n",
       "      <td>0.961933</td>\n",
       "    </tr>\n",
       "    <tr>\n",
       "      <th>8</th>\n",
       "      <td>12.094444</td>\n",
       "      <td>1.224011</td>\n",
       "    </tr>\n",
       "    <tr>\n",
       "      <th rowspan=\"7\" valign=\"top\">white</th>\n",
       "      <th>3</th>\n",
       "      <td>10.345000</td>\n",
       "      <td>1.224089</td>\n",
       "    </tr>\n",
       "    <tr>\n",
       "      <th>4</th>\n",
       "      <td>10.152454</td>\n",
       "      <td>1.003217</td>\n",
       "    </tr>\n",
       "    <tr>\n",
       "      <th>5</th>\n",
       "      <td>9.808840</td>\n",
       "      <td>0.847065</td>\n",
       "    </tr>\n",
       "    <tr>\n",
       "      <th>6</th>\n",
       "      <td>10.575372</td>\n",
       "      <td>1.147776</td>\n",
       "    </tr>\n",
       "    <tr>\n",
       "      <th>7</th>\n",
       "      <td>11.367936</td>\n",
       "      <td>1.246536</td>\n",
       "    </tr>\n",
       "    <tr>\n",
       "      <th>8</th>\n",
       "      <td>11.636000</td>\n",
       "      <td>1.280138</td>\n",
       "    </tr>\n",
       "    <tr>\n",
       "      <th>9</th>\n",
       "      <td>12.180000</td>\n",
       "      <td>1.013410</td>\n",
       "    </tr>\n",
       "  </tbody>\n",
       "</table>\n",
       "</div>"
      ],
      "text/plain": [
       "                    mean       std\n",
       "type  quality                     \n",
       "red   3         9.955000  0.818009\n",
       "      4        10.265094  0.934776\n",
       "      5         9.899706  0.736521\n",
       "      6        10.629519  1.049639\n",
       "      7        11.465913  0.961933\n",
       "      8        12.094444  1.224011\n",
       "white 3        10.345000  1.224089\n",
       "      4        10.152454  1.003217\n",
       "      5         9.808840  0.847065\n",
       "      6        10.575372  1.147776\n",
       "      7        11.367936  1.246536\n",
       "      8        11.636000  1.280138\n",
       "      9        12.180000  1.013410"
      ]
     },
     "execution_count": 25,
     "metadata": {},
     "output_type": "execute_result"
    }
   ],
   "source": [
    "#선택된 'quality' 열에 대한 통계적 요약을 생성\n",
    "wine.groupby('type')['alcohol'].describe()\n",
    "\n",
    "wine.groupby('quality')['alcohol'].agg({'mean', 'std'})\n",
    "\n",
    "wine.groupby('quality').agg({'alcohol':['mean', 'var'], 'pH':['median', 'sum']})\n",
    "\n",
    "wine.groupby(['type', 'quality'])['alcohol'].agg(['mean', 'std'])"
   ]
  }
 ],
 "metadata": {
  "kernelspec": {
   "display_name": "base",
   "language": "python",
   "name": "python3"
  },
  "language_info": {
   "codemirror_mode": {
    "name": "ipython",
    "version": 3
   },
   "file_extension": ".py",
   "mimetype": "text/x-python",
   "name": "python",
   "nbconvert_exporter": "python",
   "pygments_lexer": "ipython3",
   "version": "3.10.9"
  },
  "orig_nbformat": 4
 },
 "nbformat": 4,
 "nbformat_minor": 2
}
