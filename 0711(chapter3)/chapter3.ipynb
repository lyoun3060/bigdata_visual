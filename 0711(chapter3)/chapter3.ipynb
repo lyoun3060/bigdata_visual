{
 "cells": [
  {
   "cell_type": "code",
   "execution_count": null,
   "metadata": {},
   "outputs": [],
   "source": []
  },
  {
   "cell_type": "markdown",
   "metadata": {},
   "source": [
    "# 데이터 수집\n",
    " - 다운로드 경로 : https://archive.ics.uci.edu/dataset/186/wine+quality"
   ]
  },
  {
   "cell_type": "code",
   "execution_count": 15,
   "metadata": {},
   "outputs": [],
   "source": [
    "import pandas as pd\n",
    "\n",
    "red_df= pd.read_csv('winequality-red.csv', sep=';')\n",
    "white_df=pd.read_csv('winequality-white.csv', sep=';')\n",
    "red_df.to_csv('winequality-red1.csv', index=False)\n",
    "white_df.to_csv('winequality-white1.csv', index=False)\n",
    "\n"
   ]
  },
  {
   "cell_type": "code",
   "execution_count": 16,
   "metadata": {},
   "outputs": [
    {
     "name": "stdout",
     "output_type": "stream",
     "text": [
      "<class 'pandas.core.frame.DataFrame'>\n",
      "RangeIndex: 4898 entries, 0 to 4897\n",
      "Data columns (total 12 columns):\n",
      " #   Column                Non-Null Count  Dtype  \n",
      "---  ------                --------------  -----  \n",
      " 0   fixed acidity         4898 non-null   float64\n",
      " 1   volatile acidity      4898 non-null   float64\n",
      " 2   citric acid           4898 non-null   float64\n",
      " 3   residual sugar        4898 non-null   float64\n",
      " 4   chlorides             4898 non-null   float64\n",
      " 5   free sulfur dioxide   4898 non-null   float64\n",
      " 6   total sulfur dioxide  4898 non-null   float64\n",
      " 7   density               4898 non-null   float64\n",
      " 8   pH                    4898 non-null   float64\n",
      " 9   sulphates             4898 non-null   float64\n",
      " 10  alcohol               4898 non-null   float64\n",
      " 11  quality               4898 non-null   int64  \n",
      "dtypes: float64(11), int64(1)\n",
      "memory usage: 459.3 KB\n"
     ]
    }
   ],
   "source": [
    "red_df.count()\n",
    "white_df.info()"
   ]
  },
  {
   "cell_type": "code",
   "execution_count": 17,
   "metadata": {},
   "outputs": [
    {
     "name": "stdout",
     "output_type": "stream",
     "text": [
      "     type  fixed acidity  volatile acidity  citric acid  residual sugar  \\\n",
      "0     red            7.4             0.700         0.00             1.9   \n",
      "1     red            7.8             0.880         0.00             2.6   \n",
      "2     red            7.8             0.760         0.04             2.3   \n",
      "3     red           11.2             0.280         0.56             1.9   \n",
      "4     red            7.4             0.700         0.00             1.9   \n",
      "...   ...            ...               ...          ...             ...   \n",
      "1594  red            6.2             0.600         0.08             2.0   \n",
      "1595  red            5.9             0.550         0.10             2.2   \n",
      "1596  red            6.3             0.510         0.13             2.3   \n",
      "1597  red            5.9             0.645         0.12             2.0   \n",
      "1598  red            6.0             0.310         0.47             3.6   \n",
      "\n",
      "      chlorides  free sulfur dioxide  total sulfur dioxide  density    pH  \\\n",
      "0         0.076                 11.0                  34.0  0.99780  3.51   \n",
      "1         0.098                 25.0                  67.0  0.99680  3.20   \n",
      "2         0.092                 15.0                  54.0  0.99700  3.26   \n",
      "3         0.075                 17.0                  60.0  0.99800  3.16   \n",
      "4         0.076                 11.0                  34.0  0.99780  3.51   \n",
      "...         ...                  ...                   ...      ...   ...   \n",
      "1594      0.090                 32.0                  44.0  0.99490  3.45   \n",
      "1595      0.062                 39.0                  51.0  0.99512  3.52   \n",
      "1596      0.076                 29.0                  40.0  0.99574  3.42   \n",
      "1597      0.075                 32.0                  44.0  0.99547  3.57   \n",
      "1598      0.067                 18.0                  42.0  0.99549  3.39   \n",
      "\n",
      "      sulphates  alcohol  quality  \n",
      "0          0.56      9.4        5  \n",
      "1          0.68      9.8        5  \n",
      "2          0.65      9.8        5  \n",
      "3          0.58      9.8        6  \n",
      "4          0.56      9.4        5  \n",
      "...         ...      ...      ...  \n",
      "1594       0.58     10.5        5  \n",
      "1595       0.76     11.2        6  \n",
      "1596       0.75     11.0        6  \n",
      "1597       0.71     10.2        5  \n",
      "1598       0.66     11.0        6  \n",
      "\n",
      "[1599 rows x 13 columns]\n",
      "       type  fixed acidity  volatile acidity  citric acid  residual sugar  \\\n",
      "0     white            7.0              0.27         0.36            20.7   \n",
      "1     white            6.3              0.30         0.34             1.6   \n",
      "2     white            8.1              0.28         0.40             6.9   \n",
      "3     white            7.2              0.23         0.32             8.5   \n",
      "4     white            7.2              0.23         0.32             8.5   \n",
      "...     ...            ...               ...          ...             ...   \n",
      "4893  white            6.2              0.21         0.29             1.6   \n",
      "4894  white            6.6              0.32         0.36             8.0   \n",
      "4895  white            6.5              0.24         0.19             1.2   \n",
      "4896  white            5.5              0.29         0.30             1.1   \n",
      "4897  white            6.0              0.21         0.38             0.8   \n",
      "\n",
      "      chlorides  free sulfur dioxide  total sulfur dioxide  density    pH  \\\n",
      "0         0.045                 45.0                 170.0  1.00100  3.00   \n",
      "1         0.049                 14.0                 132.0  0.99400  3.30   \n",
      "2         0.050                 30.0                  97.0  0.99510  3.26   \n",
      "3         0.058                 47.0                 186.0  0.99560  3.19   \n",
      "4         0.058                 47.0                 186.0  0.99560  3.19   \n",
      "...         ...                  ...                   ...      ...   ...   \n",
      "4893      0.039                 24.0                  92.0  0.99114  3.27   \n",
      "4894      0.047                 57.0                 168.0  0.99490  3.15   \n",
      "4895      0.041                 30.0                 111.0  0.99254  2.99   \n",
      "4896      0.022                 20.0                 110.0  0.98869  3.34   \n",
      "4897      0.020                 22.0                  98.0  0.98941  3.26   \n",
      "\n",
      "      sulphates  alcohol  quality  \n",
      "0          0.45      8.8        6  \n",
      "1          0.49      9.5        6  \n",
      "2          0.44     10.1        6  \n",
      "3          0.40      9.9        6  \n",
      "4          0.40      9.9        6  \n",
      "...         ...      ...      ...  \n",
      "4893       0.50     11.2        6  \n",
      "4894       0.46      9.6        5  \n",
      "4895       0.46      9.4        6  \n",
      "4896       0.38     12.8        7  \n",
      "4897       0.32     11.8        6  \n",
      "\n",
      "[4898 rows x 13 columns]\n"
     ]
    }
   ],
   "source": [
    "red_df.insert(0, column='type', value='red')\n",
    "white_df.insert(0, column='type', value='white')\n"
   ]
  },
  {
   "cell_type": "code",
   "execution_count": 20,
   "metadata": {},
   "outputs": [
    {
     "name": "stdout",
     "output_type": "stream",
     "text": [
      "  type  fixed acidity  volatile acidity  citric acid  residual sugar  \\\n",
      "0  red            7.4              0.70         0.00             1.9   \n",
      "1  red            7.8              0.88         0.00             2.6   \n",
      "2  red            7.8              0.76         0.04             2.3   \n",
      "3  red           11.2              0.28         0.56             1.9   \n",
      "4  red            7.4              0.70         0.00             1.9   \n",
      "\n",
      "   chlorides  free sulfur dioxide  total sulfur dioxide  density    pH  \\\n",
      "0      0.076                 11.0                  34.0   0.9978  3.51   \n",
      "1      0.098                 25.0                  67.0   0.9968  3.20   \n",
      "2      0.092                 15.0                  54.0   0.9970  3.26   \n",
      "3      0.075                 17.0                  60.0   0.9980  3.16   \n",
      "4      0.076                 11.0                  34.0   0.9978  3.51   \n",
      "\n",
      "   sulphates  alcohol  quality  \n",
      "0       0.56      9.4        5  \n",
      "1       0.68      9.8        5  \n",
      "2       0.65      9.8        5  \n",
      "3       0.58      9.8        6  \n",
      "4       0.56      9.4        5  \n",
      "    type  fixed acidity  volatile acidity  citric acid  residual sugar  \\\n",
      "0  white            7.0              0.27         0.36            20.7   \n",
      "1  white            6.3              0.30         0.34             1.6   \n",
      "2  white            8.1              0.28         0.40             6.9   \n",
      "3  white            7.2              0.23         0.32             8.5   \n",
      "4  white            7.2              0.23         0.32             8.5   \n",
      "\n",
      "   chlorides  free sulfur dioxide  total sulfur dioxide  density    pH  \\\n",
      "0      0.045                 45.0                 170.0   1.0010  3.00   \n",
      "1      0.049                 14.0                 132.0   0.9940  3.30   \n",
      "2      0.050                 30.0                  97.0   0.9951  3.26   \n",
      "3      0.058                 47.0                 186.0   0.9956  3.19   \n",
      "4      0.058                 47.0                 186.0   0.9956  3.19   \n",
      "\n",
      "   sulphates  alcohol  quality  \n",
      "0       0.45      8.8        6  \n",
      "1       0.49      9.5        6  \n",
      "2       0.44     10.1        6  \n",
      "3       0.40      9.9        6  \n",
      "4       0.40      9.9        6  \n"
     ]
    }
   ],
   "source": [
    "print(red_df.head())\n",
    "print(white_df.head())"
   ]
  },
  {
   "cell_type": "code",
   "execution_count": 36,
   "metadata": {},
   "outputs": [
    {
     "name": "stdout",
     "output_type": "stream",
     "text": [
      "<class 'pandas.core.frame.DataFrame'>\n",
      "Int64Index: 6497 entries, 0 to 4897\n",
      "Data columns (total 13 columns):\n",
      " #   Column                Non-Null Count  Dtype  \n",
      "---  ------                --------------  -----  \n",
      " 0   type                  6497 non-null   object \n",
      " 1   fixed acidity         6497 non-null   float64\n",
      " 2   volatile acidity      6497 non-null   float64\n",
      " 3   citric acid           6497 non-null   float64\n",
      " 4   residual sugar        6497 non-null   float64\n",
      " 5   chlorides             6497 non-null   float64\n",
      " 6   free sulfur dioxide   6497 non-null   float64\n",
      " 7   total sulfur dioxide  6497 non-null   float64\n",
      " 8   density               6497 non-null   float64\n",
      " 9   pH                    6497 non-null   float64\n",
      " 10  sulphates             6497 non-null   float64\n",
      " 11  alcohol               6497 non-null   float64\n",
      " 12  quality               6497 non-null   int64  \n",
      "dtypes: float64(11), int64(1), object(1)\n",
      "memory usage: 710.6+ KB\n",
      "[3, 4, 5, 6, 7, 8, 9]\n",
      "6    2836\n",
      "5    2138\n",
      "7    1079\n",
      "4     216\n",
      "8     193\n",
      "3      30\n",
      "9       5\n",
      "Name: quality, dtype: int64\n"
     ]
    }
   ],
   "source": [
    "wine=pd.concat([red_df, white_df])\n",
    "wine.info()\n",
    "\n",
    "wine.to_csv('wine.csv', index=False)\n",
    "\n",
    "# wine.columns = wine.columns.str.replace(' ', '_')\n",
    "# print(sorted(wine['quality'].unique()))\n",
    "# print(wine['quality'].value_counts())\n"
   ]
  },
  {
   "cell_type": "code",
   "execution_count": 41,
   "metadata": {},
   "outputs": [
    {
     "data": {
      "text/html": [
       "<div>\n",
       "<style scoped>\n",
       "    .dataframe tbody tr th:only-of-type {\n",
       "        vertical-align: middle;\n",
       "    }\n",
       "\n",
       "    .dataframe tbody tr th {\n",
       "        vertical-align: top;\n",
       "    }\n",
       "\n",
       "    .dataframe thead tr th {\n",
       "        text-align: left;\n",
       "    }\n",
       "\n",
       "    .dataframe thead tr:last-of-type th {\n",
       "        text-align: right;\n",
       "    }\n",
       "</style>\n",
       "<table border=\"1\" class=\"dataframe\">\n",
       "  <thead>\n",
       "    <tr>\n",
       "      <th></th>\n",
       "      <th colspan=\"2\" halign=\"left\">quality</th>\n",
       "      <th colspan=\"2\" halign=\"left\">alcohol</th>\n",
       "    </tr>\n",
       "    <tr>\n",
       "      <th></th>\n",
       "      <th>sum</th>\n",
       "      <th>mean</th>\n",
       "      <th>std</th>\n",
       "      <th>median</th>\n",
       "    </tr>\n",
       "    <tr>\n",
       "      <th>type</th>\n",
       "      <th></th>\n",
       "      <th></th>\n",
       "      <th></th>\n",
       "      <th></th>\n",
       "    </tr>\n",
       "  </thead>\n",
       "  <tbody>\n",
       "    <tr>\n",
       "      <th>red</th>\n",
       "      <td>9012</td>\n",
       "      <td>5.636023</td>\n",
       "      <td>1.065668</td>\n",
       "      <td>10.2</td>\n",
       "    </tr>\n",
       "    <tr>\n",
       "      <th>white</th>\n",
       "      <td>28790</td>\n",
       "      <td>5.877909</td>\n",
       "      <td>1.230621</td>\n",
       "      <td>10.4</td>\n",
       "    </tr>\n",
       "  </tbody>\n",
       "</table>\n",
       "</div>"
      ],
      "text/plain": [
       "      quality             alcohol       \n",
       "          sum      mean       std median\n",
       "type                                    \n",
       "red      9012  5.636023  1.065668   10.2\n",
       "white   28790  5.877909  1.230621   10.4"
      ]
     },
     "execution_count": 41,
     "metadata": {},
     "output_type": "execute_result"
    }
   ],
   "source": [
    "wine.groupby('type')['quality'].describe()\n",
    "wine.groupby('type')['quality'].agg(['mean', 'sum', 'std'])\n",
    "wine.groupby('type').agg({'quality':'sum' , 'alcohol':'mean'})\n",
    "wine.groupby('type').agg({'quality':['sum', 'mean'] , 'alcohol':['std', 'median']})"
   ]
  }
 ],
 "metadata": {
  "kernelspec": {
   "display_name": "base",
   "language": "python",
   "name": "python3"
  },
  "language_info": {
   "codemirror_mode": {
    "name": "ipython",
    "version": 3
   },
   "file_extension": ".py",
   "mimetype": "text/x-python",
   "name": "python",
   "nbconvert_exporter": "python",
   "pygments_lexer": "ipython3",
   "version": "3.10.9"
  },
  "orig_nbformat": 4
 },
 "nbformat": 4,
 "nbformat_minor": 2
}
