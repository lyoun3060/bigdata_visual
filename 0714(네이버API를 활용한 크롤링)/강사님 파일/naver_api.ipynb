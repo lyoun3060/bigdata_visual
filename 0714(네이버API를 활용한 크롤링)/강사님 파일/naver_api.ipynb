{
 "cells": [
  {
   "cell_type": "code",
   "execution_count": 47,
   "id": "6d0a2208-f455-42d5-9b7d-7ad603eef8da",
   "metadata": {
    "collapsed": true,
    "jupyter": {
     "outputs_hidden": true
    },
    "tags": []
   },
   "outputs": [
    {
     "name": "stdout",
     "output_type": "stream",
     "text": [
      "{'lastBuildDate': 'Wed, 03 Aug 2022 11:17:47 +0900', 'total': 4966358, 'start': 1, 'display': 100, 'items': [{'title': '센텀시티점 나이키스윔 여성<b>수영복</b> 앤서 솔리드 패스트백 자수 앤', 'link': 'https://search.shopping.naver.com/gate.nhn?id=31164665865', 'image': 'https://shopping-phinf.pstatic.net/main_3116466/31164665865.20220514045241.jpg', 'lprice': '75230', 'hprice': '', 'mallName': '네이버', 'productId': '31164665865', 'productType': '1', 'brand': '', 'maker': '', 'category1': '스포츠/레저', 'category2': '수영', 'category3': '여성수영복', 'category4': '원피스수영복'}, {'title': '나이키스윔 여자 컷아웃 실내<b>수영복</b> 빅사이즈포함', 'link': 'https://search.shopping.naver.com/gate.nhn?id=80732076057', 'image': 'https://shopping-phinf.pstatic.net/main_8073207/80732076057.23.jpg', 'lprice': '84000', 'hprice': '', 'mallName': '나이키스윔', 'productId': '80732076057', 'productType': '2', 'brand': '나이키', 'maker': '나이키', 'category1': '스포츠/레저', 'category2': '수영', 'category3': '여성수영복', 'category4': '원피스수영복'}, {'title': '나이키스윔 Swim 나이키스윔 여성<b>수영복</b> 앤서 솔리드 패스트백 자수 앤 로우컷', 'link': 'https://search.shopping.naver.com/gate.nhn?id=28004147219', 'image': 'https://shopping-phinf.pstatic.net/main_2800414/28004147219.20210714225237.jpg', 'lprice': '79190', 'hprice': '', 'mallName': '네이버', 'productId': '28004147219', 'productType': '1', 'brand': '', 'maker': '', 'category1': '스포츠/레저', 'category2': '수영', 'category3': '여성수영복', 'category4': '원피스수영복'}, {'title': '나이키 스윔 앤서 솔리드 패스트백 NESSA040-006', 'link': 'https://search.shopping.naver.com/gate.nhn?id=31030593090', 'image': 'https://shopping-phinf.pstatic.net/main_3103059/31030593090.20220427144444.jpg', 'lprice': '81020', 'hprice': '', 'mallName': '네이버', 'productId': '31030593090', 'productType': '1', 'brand': '나이키', 'maker': '나이키', 'category1': '스포츠/레저', 'category2': '수영', 'category3': '여성수영복', 'category4': '원피스수영복'}, {'title': '나이키 <b>수영복</b> 여성 폴리 솔리드 컷아웃 NESSA018-001', 'link': 'https://search.shopping.naver.com/gate.nhn?id=29553570575', 'image': 'https://shopping-phinf.pstatic.net/main_2955357/29553570575.20211105235311.jpg', 'lprice': '66750', 'hprice': '', 'mallName': '네이버', 'productId': '29553570575', 'productType': '1', 'brand': '나이키', 'maker': '', 'category1': '스포츠/레저', 'category2': '수영', 'category3': '여성수영복', 'category4': '원피스수영복'}, {'title': '날씬보장-5kg 날개 반팔 랩 모노키니 원피스 <b>수영복</b> 3XL까지 N9050', 'link': 'https://search.shopping.naver.com/gate.nhn?id=26983204432', 'image': 'https://shopping-phinf.pstatic.net/main_2698320/26983204432.20210430190748.jpg', 'lprice': '34900', 'hprice': '', 'mallName': '네이버', 'productId': '26983204432', 'productType': '1', 'brand': '', 'maker': '', 'category1': '스포츠/레저', 'category2': '수영', 'category3': '여성수영복', 'category4': '원피스수영복'}, {'title': '까지 몸매보정 치마 원피스 세트 <b>수영복</b>', 'link': 'https://search.shopping.naver.com/gate.nhn?id=31357830608', 'image': 'https://shopping-phinf.pstatic.net/main_3135783/31357830608.20220319023508.jpg', 'lprice': '15900', 'hprice': '', 'mallName': '네이버', 'productId': '31357830608', 'productType': '1', 'brand': '', 'maker': '', 'category1': '스포츠/레저', 'category2': '수영', 'category3': '여성수영복', 'category4': '원피스수영복'}, {'title': '실내<b>수영복</b> 반신 빅사이즈 아쿠아로빅 아레나 반팔여자실내<b>수영복</b>', 'link': 'https://search.shopping.naver.com/gate.nhn?id=11964700164', 'image': 'https://shopping-phinf.pstatic.net/main_1196470/11964700164.13.jpg', 'lprice': '39900', 'hprice': '', 'mallName': '아쿠온', 'productId': '11964700164', 'productType': '2', 'brand': '아레나', 'maker': '', 'category1': '스포츠/레저', 'category2': '수영', 'category3': '여성수영복', 'category4': '원피스수영복'}, {'title': '[4종세트] 베이직엘르 여성인 반전신 반팔 삼각 긴팔 실내<b>수영복</b>', 'link': 'https://search.shopping.naver.com/gate.nhn?id=82259164580', 'image': 'https://shopping-phinf.pstatic.net/main_8225916/82259164580.10.jpg', 'lprice': '49900', 'hprice': '', 'mallName': '거화스포츠', 'productId': '82259164580', 'productType': '2', 'brand': '베이직엘르', 'maker': '거화스포츠', 'category1': '스포츠/레저', 'category2': '수영', 'category3': '여성수영복', 'category4': '원피스수영복'}, {'title': '빅 사이즈 <b>수영복</b> 블랙 레이스 원피스 55 66 77 88 여자 체형커버 비키니', 'link': 'https://search.shopping.naver.com/gate.nhn?id=82143274874', 'image': 'https://shopping-phinf.pstatic.net/main_8214327/82143274874.7.jpg', 'lprice': '35800', 'hprice': '', 'mallName': '써니빌 비치웨어', 'productId': '82143274874', 'productType': '2', 'brand': '', 'maker': '', 'category1': '스포츠/레저', 'category2': '수영', 'category3': '여성수영복', 'category4': '원피스수영복'}, {'title': '아레나 골드에디션 비치 원피스 실내 <b>수영복</b> 캡내장 A0SL1SO01', 'link': 'https://search.shopping.naver.com/gate.nhn?id=28535094994', 'image': 'https://shopping-phinf.pstatic.net/main_2853509/28535094994.20210823042353.jpg', 'lprice': '40490', 'hprice': '', 'mallName': '네이버', 'productId': '28535094994', 'productType': '1', 'brand': '아레나', 'maker': '', 'category1': '스포츠/레저', 'category2': '수영', 'category3': '여성수영복', 'category4': '원피스수영복'}, {'title': '엘르 <b>수영복</b> 일레븐 11자 비치원피스 E2SLOLE52BLK', 'link': 'https://search.shopping.naver.com/gate.nhn?id=32882830324', 'image': 'https://shopping-phinf.pstatic.net/main_3288283/32882830324.20220611170919.jpg', 'lprice': '38800', 'hprice': '', 'mallName': '네이버', 'productId': '32882830324', 'productType': '1', 'brand': '엘르', 'maker': '엘르', 'category1': '스포츠/레저', 'category2': '수영', 'category3': '여성수영복', 'category4': '원피스수영복'}, {'title': '여자실내<b>수영복</b> 반팔 스윔웨어 워터파크 리조트 여행', 'link': 'https://search.shopping.naver.com/gate.nhn?id=31674908964', 'image': 'https://shopping-phinf.pstatic.net/main_3167490/31674908964.20220408152204.jpg', 'lprice': '21450', 'hprice': '', 'mallName': '네이버', 'productId': '31674908964', 'productType': '1', 'brand': '', 'maker': '', 'category1': '스포츠/레저', 'category2': '수영', 'category3': '여성수영복', 'category4': '원피스수영복'}, {'title': '아레나 여성 스마일 원피스 실내 <b>수영복</b> A0SL1LO91PPL', 'link': 'https://search.shopping.naver.com/gate.nhn?id=26761349278', 'image': 'https://shopping-phinf.pstatic.net/main_2676134/26761349278.20211206104438.jpg', 'lprice': '42990', 'hprice': '', 'mallName': '네이버', 'productId': '26761349278', 'productType': '1', 'brand': '아레나', 'maker': '아레나', 'category1': '스포츠/레저', 'category2': '수영', 'category3': '여성수영복', 'category4': '원피스수영복'}, {'title': '배색 라인 리본 포인트 모노키니 치마set 투피스 <b>수영복</b>(44-77까지)', 'link': 'https://search.shopping.naver.com/gate.nhn?id=82547382704', 'image': 'https://shopping-phinf.pstatic.net/main_8254738/82547382704.jpg', 'lprice': '34800', 'hprice': '', 'mallName': '미즈큐즈', 'productId': '82547382704', 'productType': '2', 'brand': '', 'maker': '', 'category1': '스포츠/레저', 'category2': '수영', 'category3': '여성수영복', 'category4': '원피스수영복'}, {'title': '나이키 여성 스카이 스트라이프 레이서백 자수 앤 로우컷 <b>수영복</b> NESSA043-006', 'link': 'https://search.shopping.naver.com/gate.nhn?id=27971864122', 'image': 'https://shopping-phinf.pstatic.net/main_2797186/27971864122.20210830102539.jpg', 'lprice': '67640', 'hprice': '', 'mallName': '네이버', 'productId': '27971864122', 'productType': '1', 'brand': '나이키', 'maker': '나이키', 'category1': '스포츠/레저', 'category2': '수영', 'category3': '여성수영복', 'category4': '원피스수영복'}, {'title': '레노마 여성U형 로우컷 실내 <b>수영복</b> LS20824', 'link': 'https://search.shopping.naver.com/gate.nhn?id=26967983553', 'image': 'https://shopping-phinf.pstatic.net/main_2696798/26967983553.20210830114940.jpg', 'lprice': '19370', 'hprice': '', 'mallName': '네이버', 'productId': '26967983553', 'productType': '1', 'brand': '레노마', 'maker': '레노마', 'category1': '스포츠/레저', 'category2': '수영', 'category3': '여성수영복', 'category4': '원피스수영복'}, {'title': '엘르 여성 실내 원피스 플레인 <b>수영복</b> EVALO20BLK', 'link': 'https://search.shopping.naver.com/gate.nhn?id=24543968894', 'image': 'https://shopping-phinf.pstatic.net/main_2454396/24543968894.20210813115556.jpg', 'lprice': '26510', 'hprice': '', 'mallName': '네이버', 'productId': '24543968894', 'productType': '1', 'brand': '엘르', 'maker': '엘르', 'category1': '스포츠/레저', 'category2': '수영', 'category3': '여성수영복', 'category4': '원피스수영복'}, {'title': '로라로라 COLLAR BUTTON SWIMSUIT', 'link': 'https://search.shopping.naver.com/gate.nhn?id=32505489116', 'image': 'https://shopping-phinf.pstatic.net/main_3250548/32505489116.20220521134358.jpg', 'lprice': '106631', 'hprice': '', 'mallName': '네이버', 'productId': '32505489116', 'productType': '1', 'brand': '로라로라', 'maker': '바이와이제이', 'category1': '스포츠/레저', 'category2': '수영', 'category3': '여성수영복', 'category4': '원피스수영복'}, {'title': '66사이즈부터 5XL까지 섹시한 커버업 시스루 여성 긴팔 원피스 <b>수영복</b> DYG5602', 'link': 'https://search.shopping.naver.com/gate.nhn?id=33213063331', 'image': 'https://shopping-phinf.pstatic.net/main_3321306/33213063331.20220630155113.jpg', 'lprice': '36890', 'hprice': '', 'mallName': '네이버', 'productId': '33213063331', 'productType': '1', 'brand': '', 'maker': '', 'category1': '스포츠/레저', 'category2': '수영', 'category3': '여성수영복', 'category4': '원피스수영복'}, {'title': '날씬해 보이는 여성 체형커버 <b>수영복</b> 원피스 모노키니 빅사이즈', 'link': 'https://search.shopping.naver.com/gate.nhn?id=82502061223', 'image': 'https://shopping-phinf.pstatic.net/main_8250206/82502061223.9.jpg', 'lprice': '31900', 'hprice': '', 'mallName': '소림사', 'productId': '82502061223', 'productType': '2', 'brand': '', 'maker': '', 'category1': '스포츠/레저', 'category2': '수영', 'category3': '여성수영복', 'category4': '원피스수영복'}, {'title': '후그 여성용 실내<b>수영복</b> 1부컷 탄탄이 원피스<b>수영복</b>', 'link': 'https://search.shopping.naver.com/gate.nhn?id=82739426809', 'image': 'https://shopping-phinf.pstatic.net/main_8273942/82739426809.2.jpg', 'lprice': '21000', 'hprice': '', 'mallName': '잇츠스포츠몰', 'productId': '82739426809', 'productType': '2', 'brand': '후그', 'maker': '후그', 'category1': '스포츠/레저', 'category2': '수영', 'category3': '여성수영복', 'category4': '원피스수영복'}, {'title': '카이비스 여성<b>수영복</b> 7종세트 여자 실내 수영장 원피스 빅사이즈 아레나', 'link': 'https://search.shopping.naver.com/gate.nhn?id=11117849260', 'image': 'https://shopping-phinf.pstatic.net/main_1111784/11117849260.5.jpg', 'lprice': '24900', 'hprice': '', 'mallName': '카이비스', 'productId': '11117849260', 'productType': '2', 'brand': '카이비스', 'maker': '', 'category1': '스포츠/레저', 'category2': '수영', 'category3': '여성수영복', 'category4': '원피스수영복'}, {'title': '여자 바캉스 원피스 <b>수영복</b> 실내 호텔수영장 비치 체형커버 원피스형 치마<b>수영복</b>', 'link': 'https://search.shopping.naver.com/gate.nhn?id=83882275033', 'image': 'https://shopping-phinf.pstatic.net/main_8388227/83882275033.3.jpg', 'lprice': '22500', 'hprice': '', 'mallName': '빅 보스', 'productId': '83882275033', 'productType': '2', 'brand': '', 'maker': '', 'category1': '스포츠/레저', 'category2': '수영', 'category3': '여성수영복', 'category4': '원피스수영복'}, {'title': '날씬보장-5kg 프릴 반팔 랩 여성 원피스 <b>수영복</b> TL150', 'link': 'https://search.shopping.naver.com/gate.nhn?id=33211762657', 'image': 'https://shopping-phinf.pstatic.net/main_3321176/33211762657.20220630142119.jpg', 'lprice': '32870', 'hprice': '', 'mallName': '네이버', 'productId': '33211762657', 'productType': '1', 'brand': '', 'maker': '', 'category1': '스포츠/레저', 'category2': '수영', 'category3': '여성수영복', 'category4': '원피스수영복'}, {'title': '뱃살 커버업 원피스 <b>수영복</b> 모노키니 N9012', 'link': 'https://search.shopping.naver.com/gate.nhn?id=33268091111', 'image': 'https://shopping-phinf.pstatic.net/main_3326809/33268091111.20220704081516.jpg', 'lprice': '29790', 'hprice': '', 'mallName': '네이버', 'productId': '33268091111', 'productType': '1', 'brand': '', 'maker': '', 'category1': '스포츠/레저', 'category2': '수영', 'category3': '여성수영복', 'category4': '원피스수영복'}, {'title': '아레나 여성 실내 <b>수영복</b> 라이트바 원피스 레이서백 A1FL1LO04KHA', 'link': 'https://search.shopping.naver.com/gate.nhn?id=29171150777', 'image': 'https://shopping-phinf.pstatic.net/main_2917115/29171150777.20211127040349.jpg', 'lprice': '86550', 'hprice': '', 'mallName': '네이버', 'productId': '29171150777', 'productType': '1', 'brand': '아레나', 'maker': '', 'category1': '스포츠/레저', 'category2': '수영', 'category3': '여성수영복', 'category4': '원피스수영복'}, {'title': '아레나 여성 일반 물방울 크로스백 원피스 실내 <b>수영복</b> A0BL1LO01', 'link': 'https://search.shopping.naver.com/gate.nhn?id=25025673401', 'image': 'https://shopping-phinf.pstatic.net/main_2502567/25025673401.20201229160245.jpg', 'lprice': '55460', 'hprice': '', 'mallName': '네이버', 'productId': '25025673401', 'productType': '1', 'brand': '아레나', 'maker': '아레나', 'category1': '스포츠/레저', 'category2': '수영', 'category3': '여성수영복', 'category4': '원피스수영복'}, {'title': '여성 레이스 펀칭 체형커버 원피스 <b>수영복</b> 5XL까지', 'link': 'https://search.shopping.naver.com/gate.nhn?id=30394611434', 'image': 'https://shopping-phinf.pstatic.net/main_3039461/30394611434.20220102222645.jpg', 'lprice': '20910', 'hprice': '', 'mallName': '네이버', 'productId': '30394611434', 'productType': '1', 'brand': '', 'maker': '', 'category1': '스포츠/레저', 'category2': '수영', 'category3': '여성수영복', 'category4': '원피스수영복'}, {'title': '아레나 <b>수영복</b> 클로에 레저 원피스 A2SL1SO62OWT', 'link': 'https://search.shopping.naver.com/gate.nhn?id=32287943676', 'image': 'https://shopping-phinf.pstatic.net/main_3228794/32287943676.20220512104445.jpg', 'lprice': '121500', 'hprice': '', 'mallName': '네이버', 'productId': '32287943676', 'productType': '1', 'brand': '아레나', 'maker': '', 'category1': '스포츠/레저', 'category2': '수영', 'category3': '여성수영복', 'category4': '원피스수영복'}, {'title': '일리카이 여자 실내 원피스 수영장 <b>수영복</b> 세트 SS0244WESB', 'link': 'https://search.shopping.naver.com/gate.nhn?id=18386486071', 'image': 'https://shopping-phinf.pstatic.net/main_1838648/18386486071.20190329185054.jpg', 'lprice': '33290', 'hprice': '', 'mallName': '네이버', 'productId': '18386486071', 'productType': '1', 'brand': '일리카이', 'maker': '남양사', 'category1': '스포츠/레저', 'category2': '수영', 'category3': '여성수영복', 'category4': '원피스수영복'}, {'title': '레노마 여성 실내 원피스 <b>수영복</b> LS20801', 'link': 'https://search.shopping.naver.com/gate.nhn?id=22190881966', 'image': 'https://shopping-phinf.pstatic.net/main_2219088/22190881966.20200516092006.jpg', 'lprice': '21160', 'hprice': '', 'mallName': '네이버', 'productId': '22190881966', 'productType': '1', 'brand': '레노마', 'maker': '우인에프씨씨', 'category1': '스포츠/레저', 'category2': '수영', 'category3': '여성수영복', 'category4': '원피스수영복'}, {'title': '아디다스 여자 실내<b>수영복</b>  삼선 수트 FI8263', 'link': 'https://search.shopping.naver.com/gate.nhn?id=22031727517', 'image': 'https://shopping-phinf.pstatic.net/main_2203172/22031727517.20200222163154.jpg', 'lprice': '47220', 'hprice': '', 'mallName': '네이버', 'productId': '22031727517', 'productType': '1', 'brand': '아디다스', 'maker': '아디다스', 'category1': '스포츠/레저', 'category2': '수영', 'category3': '여성수영복', 'category4': '원피스수영복'}, {'title': '아레나 여성 원피스 <b>수영복</b> BLK A1FL1PL14', 'link': 'https://search.shopping.naver.com/gate.nhn?id=29643192247', 'image': 'https://shopping-phinf.pstatic.net/main_2964319/29643192247.20211112044349.jpg', 'lprice': '42990', 'hprice': '', 'mallName': '네이버', 'productId': '29643192247', 'productType': '1', 'brand': '아레나', 'maker': '', 'category1': '스포츠/레저', 'category2': '수영', 'category3': '여성수영복', 'category4': '원피스수영복'}, {'title': '아레나<b>수영복</b> 프리즘 원피스 레이서백 세트 구성', 'link': 'https://search.shopping.naver.com/gate.nhn?id=32290992038', 'image': 'https://shopping-phinf.pstatic.net/main_3229099/32290992038.20220512145038.jpg', 'lprice': '56070', 'hprice': '', 'mallName': '네이버', 'productId': '32290992038', 'productType': '1', 'brand': '아레나', 'maker': '동인스포츠', 'category1': '스포츠/레저', 'category2': '수영', 'category3': '여성수영복', 'category4': '원피스수영복'}, {'title': '반팔 원피스<b>수영복</b> 치마 2PCS세트', 'link': 'https://search.shopping.naver.com/gate.nhn?id=28641652766', 'image': 'https://shopping-phinf.pstatic.net/main_2864165/28641652766.20210830185246.jpg', 'lprice': '12000', 'hprice': '', 'mallName': '네이버', 'productId': '28641652766', 'productType': '1', 'brand': '', 'maker': '', 'category1': '스포츠/레저', 'category2': '수영', 'category3': '여성수영복', 'category4': '원피스수영복'}, {'title': '블랙 플라워 아일렛 프릴 원피스 <b>수영복</b> 20-O3', 'link': 'https://search.shopping.naver.com/gate.nhn?id=24135760059', 'image': 'https://shopping-phinf.pstatic.net/main_2413576/24135760059.20200912190942.jpg', 'lprice': '13840', 'hprice': '', 'mallName': '네이버', 'productId': '24135760059', 'productType': '1', 'brand': '', 'maker': '', 'category1': '스포츠/레저', 'category2': '수영', 'category3': '여성수영복', 'category4': '원피스수영복'}, {'title': '긴팔 레쉬가드 래시가드 자외선 원피스 <b>수영복</b> -', 'link': 'https://search.shopping.naver.com/gate.nhn?id=27075325929', 'image': 'https://shopping-phinf.pstatic.net/main_2707532/27075325929.20210508204247.jpg', 'lprice': '19850', 'hprice': '', 'mallName': '네이버', 'productId': '27075325929', 'productType': '1', 'brand': '', 'maker': '', 'category1': '스포츠/레저', 'category2': '수영', 'category3': '여성수영복', 'category4': '원피스수영복'}, {'title': '엘르 여성 실내5종 풀 셋트 EUPSO06', 'link': 'https://search.shopping.naver.com/gate.nhn?id=20320828885', 'image': 'https://shopping-phinf.pstatic.net/main_2032082/20320828885.20211129123704.jpg', 'lprice': '17990', 'hprice': '', 'mallName': '네이버', 'productId': '20320828885', 'productType': '1', 'brand': '엘르', 'maker': '동인인터내셔날', 'category1': '스포츠/레저', 'category2': '수영', 'category3': '여성수영복', 'category4': '원피스수영복'}, {'title': '레노마 레노마 <b>수영복</b> <b>수영복</b> <b>수영복</b> 여성 워터체크 X백 실내 원피', 'link': 'https://search.shopping.naver.com/gate.nhn?id=33213562984', 'image': 'https://shopping-phinf.pstatic.net/main_3321356/33213562984.20220630160508.jpg', 'lprice': '35740', 'hprice': '', 'mallName': '네이버', 'productId': '33213562984', 'productType': '1', 'brand': '레노마', 'maker': '', 'category1': '스포츠/레저', 'category2': '수영', 'category3': '여성수영복', 'category4': '원피스수영복'}, {'title': '벨로디네라 VALLO DE NERA 다이애나 스윔수트', 'link': 'https://search.shopping.naver.com/gate.nhn?id=28631615182', 'image': 'https://shopping-phinf.pstatic.net/main_2863161/28631615182.20210830012319.jpg', 'lprice': '114570', 'hprice': '', 'mallName': '네이버', 'productId': '28631615182', 'productType': '1', 'brand': '', 'maker': '', 'category1': '스포츠/레저', 'category2': '수영', 'category3': '여성수영복', 'category4': '원피스수영복'}, {'title': '스퀘어넥 반팔 모노키니 스커트 투피스 여성 <b>수영복</b> N1973', 'link': 'https://search.shopping.naver.com/gate.nhn?id=33310940925', 'image': 'https://shopping-phinf.pstatic.net/main_3331094/33310940925.20220706102412.jpg', 'lprice': '34900', 'hprice': '', 'mallName': '네이버', 'productId': '33310940925', 'productType': '1', 'brand': '', 'maker': '', 'category1': '스포츠/레저', 'category2': '수영', 'category3': '여성수영복', 'category4': '원피스수영복'}, {'title': '르망고 르망고 Daphne Bumblebee Crossed X', 'link': 'https://search.shopping.naver.com/gate.nhn?id=24446139567', 'image': 'https://shopping-phinf.pstatic.net/main_2444613/24446139567.20201014015651.jpg', 'lprice': '69000', 'hprice': '', 'mallName': '네이버', 'productId': '24446139567', 'productType': '1', 'brand': '르망고', 'maker': '르망고', 'category1': '스포츠/레저', 'category2': '수영', 'category3': '여성수영복', 'category4': '원피스수영복'}, {'title': '[M-2XL]빅사이즈 여성 휴양지 셔링 모노키니 뱃살 커버 여성 원피스 <b>수영복</b> 19075', 'link': 'https://search.shopping.naver.com/gate.nhn?id=82062126236', 'image': 'https://shopping-phinf.pstatic.net/main_8206212/82062126236.1.jpg', 'lprice': '32900', 'hprice': '', 'mallName': '박하쇼룸', 'productId': '82062126236', 'productType': '2', 'brand': '', 'maker': '', 'category1': '스포츠/레저', 'category2': '수영', 'category3': '여성수영복', 'category4': '원피스수영복'}, {'title': '2022 NEW -5KG 다이어트 셔링 배색 모노키니 원피스 N21129', 'link': 'https://search.shopping.naver.com/gate.nhn?id=31290759987', 'image': 'https://shopping-phinf.pstatic.net/main_3129075/31290759987.20220314010811.jpg', 'lprice': '28690', 'hprice': '', 'mallName': '네이버', 'productId': '31290759987', 'productType': '1', 'brand': '', 'maker': '', 'category1': '스포츠/레저', 'category2': '수영', 'category3': '여성수영복', 'category4': '원피스수영복'}, {'title': '엘르 여성 실내 원피스 <b>수영복</b> BLK E0SLILO56', 'link': 'https://search.shopping.naver.com/gate.nhn?id=25571937405', 'image': 'https://shopping-phinf.pstatic.net/main_2557193/25571937405.20210831172021.jpg', 'lprice': '36950', 'hprice': '', 'mallName': '네이버', 'productId': '25571937405', 'productType': '1', 'brand': '엘르', 'maker': '엘르', 'category1': '스포츠/레저', 'category2': '수영', 'category3': '여성수영복', 'category4': '원피스수영복'}, {'title': '엘르 <b>수영복</b> 여성 실내 원피스 EVSLO73BLK', 'link': 'https://search.shopping.naver.com/gate.nhn?id=32641389613', 'image': 'https://shopping-phinf.pstatic.net/main_3264138/32641389613.20220529091718.jpg', 'lprice': '31980', 'hprice': '', 'mallName': '네이버', 'productId': '32641389613', 'productType': '1', 'brand': '', 'maker': '', 'category1': '스포츠/레저', 'category2': '수영', 'category3': '여성수영복', 'category4': '원피스수영복'}, {'title': '아레나 여성 선수용 원피스 실내<b>수영복</b> A0SL1CO02', 'link': 'https://search.shopping.naver.com/gate.nhn?id=21823517864', 'image': 'https://shopping-phinf.pstatic.net/main_2182351/21823517864.20200512110244.jpg', 'lprice': '47700', 'hprice': '', 'mallName': '네이버', 'productId': '21823517864', 'productType': '1', 'brand': '아레나', 'maker': '아레나', 'category1': '스포츠/레저', 'category2': '수영', 'category3': '여성수영복', 'category4': '원피스수영복'}, {'title': '지퍼형 긴팔 원피스 <b>수영복</b> p20131-1', 'link': 'https://search.shopping.naver.com/gate.nhn?id=19570139822', 'image': 'https://shopping-phinf.pstatic.net/main_1957013/19570139822.20220506030939.jpg', 'lprice': '5200', 'hprice': '', 'mallName': '네이버', 'productId': '19570139822', 'productType': '1', 'brand': '', 'maker': '', 'category1': '스포츠/레저', 'category2': '수영', 'category3': '여성수영복', 'category4': '원피스수영복'}, {'title': '레노마 여성 레터링 레트로 자카드 비치 원피스 <b>수영복</b> LS20327', 'link': 'https://search.shopping.naver.com/gate.nhn?id=27138875591', 'image': 'https://shopping-phinf.pstatic.net/main_2713887/27138875591.20210924115933.jpg', 'lprice': '31980', 'hprice': '', 'mallName': '네이버', 'productId': '27138875591', 'productType': '1', 'brand': '레노마', 'maker': '레노마', 'category1': '스포츠/레저', 'category2': '수영', 'category3': '여성수영복', 'category4': '원피스수영복'}, {'title': '레노마 여성 실내 원피스 <b>수영복</b>_RN-LF19815', 'link': 'https://search.shopping.naver.com/gate.nhn?id=19982846113', 'image': 'https://shopping-phinf.pstatic.net/main_1998284/19982846113.20190718124732.jpg', 'lprice': '19680', 'hprice': '', 'mallName': '네이버', 'productId': '19982846113', 'productType': '1', 'brand': '레노마', 'maker': '레노마', 'category1': '스포츠/레저', 'category2': '수영', 'category3': '여성수영복', 'category4': '원피스수영복'}, {'title': '아레나 여성 비치 원피스 <b>수영복</b> GRN A0BL1PE01', 'link': 'https://search.shopping.naver.com/gate.nhn?id=27551854111', 'image': 'https://shopping-phinf.pstatic.net/main_2755185/27551854111.20210816141634.jpg', 'lprice': '53100', 'hprice': '', 'mallName': '네이버', 'productId': '27551854111', 'productType': '1', 'brand': '아레나', 'maker': '아레나', 'category1': '스포츠/레저', 'category2': '수영', 'category3': '여성수영복', 'category4': '원피스수영복'}, {'title': '레노마 여성 실내  멜란지 원피스 <b>수영복</b> RN LS20823', 'link': 'https://search.shopping.naver.com/gate.nhn?id=20959981976', 'image': 'https://shopping-phinf.pstatic.net/main_2095998/20959981976.20200121040140.jpg', 'lprice': '21750', 'hprice': '', 'mallName': '네이버', 'productId': '20959981976', 'productType': '1', 'brand': '레노마', 'maker': '우인에프씨씨', 'category1': '스포츠/레저', 'category2': '수영', 'category3': '여성수영복', 'category4': '원피스수영복'}, {'title': '르망고 여성 <b>수영복</b> Jasmine Forest Green Open Back', 'link': 'https://search.shopping.naver.com/gate.nhn?id=24803289592', 'image': 'https://shopping-phinf.pstatic.net/main_2480328/24803289592.20201112000633.jpg', 'lprice': '69000', 'hprice': '', 'mallName': '네이버', 'productId': '24803289592', 'productType': '1', 'brand': '르망고', 'maker': '르망고', 'category1': '스포츠/레저', 'category2': '수영', 'category3': '여성수영복', 'category4': '원피스수영복'}, {'title': '엘르 여성 비치 긴팔 원피스 <b>수영복</b> EVSLE55', 'link': 'https://search.shopping.naver.com/gate.nhn?id=19931951685', 'image': 'https://shopping-phinf.pstatic.net/main_1993195/19931951685.20190927165803.jpg', 'lprice': '12010', 'hprice': '', 'mallName': '네이버', 'productId': '19931951685', 'productType': '1', 'brand': '엘르', 'maker': '엘르', 'category1': '스포츠/레저', 'category2': '수영', 'category3': '여성수영복', 'category4': '원피스수영복'}, {'title': '레노마 여성 플라워 가든 치마 원피스 <b>수영복</b> LS21891', 'link': 'https://search.shopping.naver.com/gate.nhn?id=28621036343', 'image': 'https://shopping-phinf.pstatic.net/main_2862103/28621036343.20210929182207.jpg', 'lprice': '51710', 'hprice': '', 'mallName': '네이버', 'productId': '28621036343', 'productType': '1', 'brand': '레노마', 'maker': '레노마', 'category1': '스포츠/레저', 'category2': '수영', 'category3': '여성수영복', 'category4': '원피스수영복'}, {'title': '아레나 여성 U백 원피스<b>수영복</b> A2SL1PL02', 'link': 'https://search.shopping.naver.com/gate.nhn?id=30481445543', 'image': 'https://shopping-phinf.pstatic.net/main_3048144/30481445543.20220319051157.jpg', 'lprice': '35220', 'hprice': '', 'mallName': '네이버', 'productId': '30481445543', 'productType': '1', 'brand': '아레나', 'maker': '아레나', 'category1': '스포츠/레저', 'category2': '수영', 'category3': '여성수영복', 'category4': '원피스수영복'}, {'title': '보수적인 여자 원피스 100kg 통통 학생들 날씬한 온천 빅 사이즈 <b>수영복</b>', 'link': 'https://search.shopping.naver.com/gate.nhn?id=26912619677', 'image': 'https://shopping-phinf.pstatic.net/main_2691261/26912619677.20220207003255.jpg', 'lprice': '21300', 'hprice': '', 'mallName': '네이버', 'productId': '26912619677', 'productType': '1', 'brand': '', 'maker': '', 'category1': '스포츠/레저', 'category2': '수영', 'category3': '여성수영복', 'category4': '원피스수영복'}, {'title': '아레나 여성 U자형 조이풀 실내 <b>수영복</b> GRY 85∼95 A1FL1LO01', 'link': 'https://search.shopping.naver.com/gate.nhn?id=28779050222', 'image': 'https://shopping-phinf.pstatic.net/main_2877905/28779050222.20210925015226.jpg', 'lprice': '64940', 'hprice': '', 'mallName': '네이버', 'productId': '28779050222', 'productType': '1', 'brand': '아레나', 'maker': '', 'category1': '스포츠/레저', 'category2': '수영', 'category3': '여성수영복', 'category4': '원피스수영복'}, {'title': '아레나 여성실내<b>수영복</b> A0SL1LO04BLK', 'link': 'https://search.shopping.naver.com/gate.nhn?id=29088815727', 'image': 'https://shopping-phinf.pstatic.net/main_2908881/29088815727.20220406033023.jpg', 'lprice': '38690', 'hprice': '', 'mallName': '네이버', 'productId': '29088815727', 'productType': '1', 'brand': '아레나', 'maker': '', 'category1': '스포츠/레저', 'category2': '수영', 'category3': '여성수영복', 'category4': '원피스수영복'}, {'title': '르망고 여성 <b>수영복</b> Tartan Pastel Double Cross', 'link': 'https://search.shopping.naver.com/gate.nhn?id=25644449960', 'image': 'https://shopping-phinf.pstatic.net/main_2564444/25644449960.20210118022934.jpg', 'lprice': '69000', 'hprice': '', 'mallName': '네이버', 'productId': '25644449960', 'productType': '1', 'brand': '르망고', 'maker': '르망고', 'category1': '스포츠/레저', 'category2': '수영', 'category3': '여성수영복', 'category4': '원피스수영복'}, {'title': '로로텐 체크 셔링 랩 브이넥 원피스 <b>수영복</b> 여성', 'link': 'https://search.shopping.naver.com/gate.nhn?id=33195546627', 'image': 'https://shopping-phinf.pstatic.net/main_3319554/33195546627.20220629174127.jpg', 'lprice': '25370', 'hprice': '', 'mallName': '네이버', 'productId': '33195546627', 'productType': '1', 'brand': '로로텐', 'maker': '', 'category1': '스포츠/레저', 'category2': '수영', 'category3': '여성수영복', 'category4': '원피스수영복'}, {'title': '아레나 여성 선수용 원피스 <b>수영복</b> A0SL1CO91', 'link': 'https://search.shopping.naver.com/gate.nhn?id=22087746546', 'image': 'https://shopping-phinf.pstatic.net/main_2208774/22087746546.20200413091204.jpg', 'lprice': '47690', 'hprice': '', 'mallName': '네이버', 'productId': '22087746546', 'productType': '1', 'brand': '아레나', 'maker': '아레나', 'category1': '스포츠/레저', 'category2': '수영', 'category3': '여성수영복', 'category4': '원피스수영복'}, {'title': '일리카이 여자 집업 원피스 실내 수영장 <b>수영복</b> SS0242WESB', 'link': 'https://search.shopping.naver.com/gate.nhn?id=18385101558', 'image': 'https://shopping-phinf.pstatic.net/main_1838510/18385101558.20200101030111.jpg', 'lprice': '33290', 'hprice': '', 'mallName': '네이버', 'productId': '18385101558', 'productType': '1', 'brand': '일리카이', 'maker': '', 'category1': '스포츠/레저', 'category2': '수영', 'category3': '여성수영복', 'category4': '원피스수영복'}, {'title': '아레나 아레나 ARENA여성 비치 원피스 실내<b>수영복</b> A0SL1SO03NVY-JS', 'link': 'https://search.shopping.naver.com/gate.nhn?id=29034321403', 'image': 'https://shopping-phinf.pstatic.net/main_2903432/29034321403.20210929212750.jpg', 'lprice': '39540', 'hprice': '', 'mallName': '네이버', 'productId': '29034321403', 'productType': '1', 'brand': '아레나', 'maker': '아레나', 'category1': '스포츠/레저', 'category2': '수영', 'category3': '여성수영복', 'category4': '원피스수영복'}, {'title': '체형커버 배색 원피스 스커트 <b>수영복</b> - 카키 m', 'link': 'https://search.shopping.naver.com/gate.nhn?id=31486939071', 'image': 'https://shopping-phinf.pstatic.net/main_3148693/31486939071.20220327033751.jpg', 'lprice': '26640', 'hprice': '', 'mallName': '네이버', 'productId': '31486939071', 'productType': '1', 'brand': '', 'maker': '', 'category1': '스포츠/레저', 'category2': '수영', 'category3': '여성수영복', 'category4': '원피스수영복'}, {'title': '아날도바시니 여성 여자 실내 수영장 <b>수영복</b> 강습용', 'link': 'https://search.shopping.naver.com/gate.nhn?id=80242257282', 'image': 'https://shopping-phinf.pstatic.net/main_8024225/80242257282.4.jpg', 'lprice': '32500', 'hprice': '', 'mallName': '아날도바시니 수영복', 'productId': '80242257282', 'productType': '2', 'brand': '아날도바시니', 'maker': '시우스포츠', 'category1': '스포츠/레저', 'category2': '수영', 'category3': '여성수영복', 'category4': '원피스수영복'}, {'title': '아레나 <b>수영복</b> 심플 모던 원피스 U백 A2SL1LO11WIN', 'link': 'https://search.shopping.naver.com/gate.nhn?id=31872929425', 'image': 'https://shopping-phinf.pstatic.net/main_3187292/31872929425.20220701111538.jpg', 'lprice': '83700', 'hprice': '', 'mallName': '네이버', 'productId': '31872929425', 'productType': '1', 'brand': '아레나', 'maker': '동인스포츠', 'category1': '스포츠/레저', 'category2': '수영', 'category3': '여성수영복', 'category4': '원피스수영복'}, {'title': '배색 리본 모노키니 치마 체형커버 원피스<b>수영복</b>', 'link': 'https://search.shopping.naver.com/gate.nhn?id=25443427756', 'image': 'https://shopping-phinf.pstatic.net/main_2544342/25443427756.20201231221210.jpg', 'lprice': '29800', 'hprice': '', 'mallName': '네이버', 'productId': '25443427756', 'productType': '1', 'brand': '', 'maker': '', 'category1': '스포츠/레저', 'category2': '수영', 'category3': '여성수영복', 'category4': '원피스수영복'}, {'title': '엘르 여성 앞지퍼실내<b>수영복</b> 수경 수모세트 NVY EVSSO22', 'link': 'https://search.shopping.naver.com/gate.nhn?id=20735175878', 'image': 'https://shopping-phinf.pstatic.net/main_2073517/20735175878.20220323043701.jpg', 'lprice': '30990', 'hprice': '', 'mallName': '네이버', 'productId': '20735175878', 'productType': '1', 'brand': '엘르', 'maker': '엘르', 'category1': '스포츠/레저', 'category2': '수영', 'category3': '여성수영복', 'category4': '원피스수영복'}, {'title': '여성 스파 치마 원피스 <b>수영복</b> DA', 'link': 'https://search.shopping.naver.com/gate.nhn?id=26310053155', 'image': 'https://shopping-phinf.pstatic.net/main_2631005/26310053155.20210310211643.jpg', 'lprice': '12500', 'hprice': '', 'mallName': '네이버', 'productId': '26310053155', 'productType': '1', 'brand': '', 'maker': '', 'category1': '스포츠/레저', 'category2': '수영', 'category3': '여성수영복', 'category4': '원피스수영복'}, {'title': '후그 <b>수영복</b> 5부컷 탄탄이 B1M 수경 세트 WLT1269', 'link': 'https://search.shopping.naver.com/gate.nhn?id=22255571311', 'image': 'https://shopping-phinf.pstatic.net/main_2225557/22255571311.20200321145649.jpg', 'lprice': '42000', 'hprice': '', 'mallName': '네이버', 'productId': '22255571311', 'productType': '1', 'brand': '후그', 'maker': '', 'category1': '스포츠/레저', 'category2': '수영', 'category3': '여성수영복', 'category4': '원피스수영복'}, {'title': '후그 여성 1부<b>수영복</b> 탄탄이 WUT1261', 'link': 'https://search.shopping.naver.com/gate.nhn?id=21787554059', 'image': 'https://shopping-phinf.pstatic.net/main_2178755/21787554059.20200119150317.jpg', 'lprice': '35990', 'hprice': '', 'mallName': '네이버', 'productId': '21787554059', 'productType': '1', 'brand': '후그', 'maker': '', 'category1': '스포츠/레저', 'category2': '수영', 'category3': '여성수영복', 'category4': '원피스수영복'}, {'title': '생럭슈 7월15일출고 프릴 러플 셔링 <b>수영복</b> 다프네 SL22CSWDNBK', 'link': 'https://search.shopping.naver.com/gate.nhn?id=33228643381', 'image': 'https://shopping-phinf.pstatic.net/main_3322864/33228643381.20220701135602.jpg', 'lprice': '148000', 'hprice': '', 'mallName': '네이버', 'productId': '33228643381', 'productType': '1', 'brand': '생럭슈', 'maker': '', 'category1': '스포츠/레저', 'category2': '수영', 'category3': '여성수영복', 'category4': '원피스수영복'}, {'title': '여자실내<b>수영복</b> 강습용 스윔웨어 호텔수영장 리조트', 'link': 'https://search.shopping.naver.com/gate.nhn?id=31684348913', 'image': 'https://shopping-phinf.pstatic.net/main_3168434/31684348913.20220409043921.jpg', 'lprice': '22940', 'hprice': '', 'mallName': '네이버', 'productId': '31684348913', 'productType': '1', 'brand': '', 'maker': '', 'category1': '스포츠/레저', 'category2': '수영', 'category3': '여성수영복', 'category4': '원피스수영복'}, {'title': '아레나<b>수영복</b> 블러썸 레저 원피스 A2SL1SO03YEL', 'link': 'https://search.shopping.naver.com/gate.nhn?id=32457022191', 'image': 'https://shopping-phinf.pstatic.net/main_3245702/32457022191.20220521063703.jpg', 'lprice': '127010', 'hprice': '', 'mallName': '네이버', 'productId': '32457022191', 'productType': '1', 'brand': '', 'maker': '', 'category1': '스포츠/레저', 'category2': '수영', 'category3': '여성수영복', 'category4': '원피스수영복'}, {'title': '질스튜어트스포츠 질스튜어트 스포츠 올라운더 스윔웨어 크림 퍼프소매 스커트 분리형 <b>수영복</b>', 'link': 'https://search.shopping.naver.com/gate.nhn?id=32270854383', 'image': 'https://shopping-phinf.pstatic.net/main_3227085/32270854383.20220511130341.jpg', 'lprice': '128440', 'hprice': '', 'mallName': '네이버', 'productId': '32270854383', 'productType': '1', 'brand': '질스튜어트스포츠', 'maker': 'LF', 'category1': '스포츠/레저', 'category2': '수영', 'category3': '여성수영복', 'category4': '원피스수영복'}, {'title': '여성 휴양지 모노키니 원피스 <b>수영복</b> 체형커버 TL087', 'link': 'https://search.shopping.naver.com/gate.nhn?id=31206345115', 'image': 'https://shopping-phinf.pstatic.net/main_3120634/31206345115.20220701115809.jpg', 'lprice': '29490', 'hprice': '', 'mallName': '네이버', 'productId': '31206345115', 'productType': '1', 'brand': '', 'maker': '', 'category1': '스포츠/레저', 'category2': '수영', 'category3': '여성수영복', 'category4': '원피스수영복'}, {'title': '여자 실내 호텔 <b>수영복</b> 모노키니 기획전', 'link': 'https://search.shopping.naver.com/gate.nhn?id=33196118422', 'image': 'https://shopping-phinf.pstatic.net/main_3319611/33196118422.20220629185618.jpg', 'lprice': '148000', 'hprice': '', 'mallName': '네이버', 'productId': '33196118422', 'productType': '1', 'brand': '', 'maker': '', 'category1': '스포츠/레저', 'category2': '수영', 'category3': '여성수영복', 'category4': '원피스수영복'}, {'title': '레노마 여성 실내 <b>수영복</b> LS20131', 'link': 'https://search.shopping.naver.com/gate.nhn?id=21245253368', 'image': 'https://shopping-phinf.pstatic.net/main_2124525/21245253368.20191118013138.jpg', 'lprice': '45600', 'hprice': '', 'mallName': '네이버', 'productId': '21245253368', 'productType': '1', 'brand': '레노마', 'maker': '우인에프씨씨', 'category1': '스포츠/레저', 'category2': '수영', 'category3': '여성수영복', 'category4': '원피스수영복'}, {'title': '아레나 여성 선수용 X-BACK 실내 원피스 <b>수영복</b> AUFCO32', 'link': 'https://search.shopping.naver.com/gate.nhn?id=19356944914', 'image': 'https://shopping-phinf.pstatic.net/main_1935694/19356944914.20191003033331.jpg', 'lprice': '44530', 'hprice': '', 'mallName': '네이버', 'productId': '19356944914', 'productType': '1', 'brand': '아레나', 'maker': '아레나', 'category1': '스포츠/레저', 'category2': '수영', 'category3': '여성수영복', 'category4': '원피스수영복'}, {'title': '테니스 원피스<b>수영복</b>', 'link': 'https://search.shopping.naver.com/gate.nhn?id=19882754996', 'image': 'https://shopping-phinf.pstatic.net/main_1988275/19882754996.20211007033437.jpg', 'lprice': '32170', 'hprice': '', 'mallName': '네이버', 'productId': '19882754996', 'productType': '1', 'brand': '', 'maker': '', 'category1': '스포츠/레저', 'category2': '수영', 'category3': '여성수영복', 'category4': '원피스수영복'}, {'title': '대전 아레나 여성 실내 <b>수영복</b> U형 원피스 A0SL1LO06', 'link': 'https://search.shopping.naver.com/gate.nhn?id=28866605389', 'image': 'https://shopping-phinf.pstatic.net/main_2886660/28866605389.20211118170438.jpg', 'lprice': '38200', 'hprice': '', 'mallName': '네이버', 'productId': '28866605389', 'productType': '1', 'brand': '아레나', 'maker': '', 'category1': '스포츠/레저', 'category2': '수영', 'category3': '여성수영복', 'category4': '원피스수영복'}, {'title': '그린 플라워 원피스 치마바지 비키니', 'link': 'https://search.shopping.naver.com/gate.nhn?id=30357142465', 'image': 'https://shopping-phinf.pstatic.net/main_3035714/30357142465.20220521063737.jpg', 'lprice': '19580', 'hprice': '', 'mallName': '네이버', 'productId': '30357142465', 'productType': '1', 'brand': '', 'maker': '', 'category1': '스포츠/레저', 'category2': '수영', 'category3': '여성수영복', 'category4': '원피스수영복'}, {'title': '질스튜어트스포츠 질스튜어트 스포츠 올라운더 스윔웨어 퍼프소매 스커트 분리형 <b>수영복</b>', 'link': 'https://search.shopping.naver.com/gate.nhn?id=32276846527', 'image': 'https://shopping-phinf.pstatic.net/main_3227684/32276846527.20220511200035.jpg', 'lprice': '128440', 'hprice': '', 'mallName': '네이버', 'productId': '32276846527', 'productType': '1', 'brand': '질스튜어트스포츠', 'maker': 'LF', 'category1': '스포츠/레저', 'category2': '수영', 'category3': '여성수영복', 'category4': '원피스수영복'}, {'title': '홀터넥 원피스 체형커버 <b>수영복</b> 뱃살커버 호텔수영장', 'link': 'https://search.shopping.naver.com/gate.nhn?id=32185652775', 'image': 'https://shopping-phinf.pstatic.net/main_3218565/32185652775.20220505162746.jpg', 'lprice': '23710', 'hprice': '', 'mallName': '네이버', 'productId': '32185652775', 'productType': '1', 'brand': '', 'maker': '', 'category1': '스포츠/레저', 'category2': '수영', 'category3': '여성수영복', 'category4': '원피스수영복'}, {'title': '센티 여자<b>수영복</b> 고져스마블 PK PK WSM-20931', 'link': 'https://search.shopping.naver.com/gate.nhn?id=26967817093', 'image': 'https://shopping-phinf.pstatic.net/main_2696781/26967817093.20210429195835.jpg', 'lprice': '56000', 'hprice': '', 'mallName': '네이버', 'productId': '26967817093', 'productType': '1', 'brand': '센티', 'maker': '센티', 'category1': '스포츠/레저', 'category2': '수영', 'category3': '여성수영복', 'category4': '원피스수영복'}, {'title': '여성 X백라인 실내<b>수영복</b> LS21801', 'link': 'https://search.shopping.naver.com/gate.nhn?id=27930234053', 'image': 'https://shopping-phinf.pstatic.net/main_2793023/27930234053.20210709213103.jpg', 'lprice': '29500', 'hprice': '', 'mallName': '네이버', 'productId': '27930234053', 'productType': '1', 'brand': '', 'maker': '', 'category1': '스포츠/레저', 'category2': '수영', 'category3': '여성수영복', 'category4': '원피스수영복'}, {'title': '아쿠아티카 여성 실내<b>수영복</b> 단품3종세트 AQA27513', 'link': 'https://search.shopping.naver.com/gate.nhn?id=26813761046', 'image': 'https://shopping-phinf.pstatic.net/main_2681376/26813761046.20210418190122.jpg', 'lprice': '32770', 'hprice': '', 'mallName': '네이버', 'productId': '26813761046', 'productType': '1', 'brand': '아쿠아티카', 'maker': '', 'category1': '스포츠/레저', 'category2': '수영', 'category3': '여성수영복', 'category4': '원피스수영복'}, {'title': '레노마 <b>수영복</b> 여성 실내 4종세트 LF19854SET', 'link': 'https://search.shopping.naver.com/gate.nhn?id=20411684211', 'image': 'https://shopping-phinf.pstatic.net/main_2041168/20411684211.20220316030533.jpg', 'lprice': '31910', 'hprice': '', 'mallName': '네이버', 'productId': '20411684211', 'productType': '1', 'brand': '레노마', 'maker': '레노마', 'category1': '스포츠/레저', 'category2': '수영', 'category3': '여성수영복', 'category4': '원피스수영복'}, {'title': '아레나 여성 선수 실내<b>수영복</b> A0SL1CO01', 'link': 'https://search.shopping.naver.com/gate.nhn?id=27550993979', 'image': 'https://shopping-phinf.pstatic.net/main_2755099/27550993979.20220701094508.jpg', 'lprice': '95790', 'hprice': '', 'mallName': '네이버', 'productId': '27550993979', 'productType': '1', 'brand': '아레나', 'maker': '', 'category1': '스포츠/레저', 'category2': '수영', 'category3': '여성수영복', 'category4': '원피스수영복'}, {'title': '엘르 엘르<b>수영복</b> 여성 실내 원피스 <b>수영복</b> euclo31dbl', 'link': 'https://search.shopping.naver.com/gate.nhn?id=31371269394', 'image': 'https://shopping-phinf.pstatic.net/main_3137126/31371269394.20220318181550.jpg', 'lprice': '20660', 'hprice': '', 'mallName': '네이버', 'productId': '31371269394', 'productType': '1', 'brand': '', 'maker': '', 'category1': '스포츠/레저', 'category2': '수영', 'category3': '여성수영복', 'category4': '원피스수영복'}, {'title': '여성 체형 커버 풀빌라 호텔 원피스 <b>수영복</b> TL145', 'link': 'https://search.shopping.naver.com/gate.nhn?id=33210940048', 'image': 'https://shopping-phinf.pstatic.net/main_3321094/33210940048.20220630134052.jpg', 'lprice': '19590', 'hprice': '', 'mallName': '네이버', 'productId': '33210940048', 'productType': '1', 'brand': '', 'maker': '', 'category1': '스포츠/레저', 'category2': '수영', 'category3': '여성수영복', 'category4': '원피스수영복'}, {'title': '아레나 여성 실내 U백 원피스<b>수영복</b> A0SL1PL05', 'link': 'https://search.shopping.naver.com/gate.nhn?id=24840722167', 'image': 'https://shopping-phinf.pstatic.net/main_2484072/24840722167.20210813143355.jpg', 'lprice': '36140', 'hprice': '', 'mallName': '네이버', 'productId': '24840722167', 'productType': '1', 'brand': '아레나', 'maker': '아레나', 'category1': '스포츠/레저', 'category2': '수영', 'category3': '여성수영복', 'category4': '원피스수영복'}, {'title': '레노마 여성 비치 와이드숄더 클래식 원피스 <b>수영복</b> LS2C302', 'link': 'https://search.shopping.naver.com/gate.nhn?id=32899133863', 'image': 'https://shopping-phinf.pstatic.net/main_3289913/32899133863.20220612101459.jpg', 'lprice': '66290', 'hprice': '', 'mallName': '네이버', 'productId': '32899133863', 'productType': '1', 'brand': '', 'maker': '', 'category1': '스포츠/레저', 'category2': '수영', 'category3': '여성수영복', 'category4': '원피스수영복'}, {'title': '3XL까지 여성 레이스 펀칭2 아일렛 체형커버 여성 원피스 <b>수영복</b> TL151', 'link': 'https://search.shopping.naver.com/gate.nhn?id=33212701648', 'image': 'https://shopping-phinf.pstatic.net/main_3321270/33212701648.20220630151024.jpg', 'lprice': '21800', 'hprice': '', 'mallName': '네이버', 'productId': '33212701648', 'productType': '1', 'brand': '', 'maker': '', 'category1': '스포츠/레저', 'category2': '수영', 'category3': '여성수영복', 'category4': '원피스수영복'}, {'title': '레노마 여성 실내<b>수영복</b> 수경수모가방 4종세트 LS20802SET5', 'link': 'https://search.shopping.naver.com/gate.nhn?id=27161512599', 'image': 'https://shopping-phinf.pstatic.net/main_2716151/27161512599.20210515201721.jpg', 'lprice': '40490', 'hprice': '', 'mallName': '네이버', 'productId': '27161512599', 'productType': '1', 'brand': '레노마', 'maker': '레노마', 'category1': '스포츠/레저', 'category2': '수영', 'category3': '여성수영복', 'category4': '원피스수영복'}, {'title': '레노마 여성 홀터넥 비치 원피스<b>수영복</b> LS19310', 'link': 'https://search.shopping.naver.com/gate.nhn?id=19367932495', 'image': 'https://shopping-phinf.pstatic.net/main_1936793/19367932495.20190828124847.jpg', 'lprice': '29390', 'hprice': '', 'mallName': '네이버', 'productId': '19367932495', 'productType': '1', 'brand': '레노마', 'maker': '레노마', 'category1': '스포츠/레저', 'category2': '수영', 'category3': '여성수영복', 'category4': '원피스수영복'}, {'title': '레노마 여성 퍼프소매  비치 실내세트 RN LS20888', 'link': 'https://search.shopping.naver.com/gate.nhn?id=21918516129', 'image': 'https://shopping-phinf.pstatic.net/main_2191851/21918516129.20200207164346.jpg', 'lprice': '41560', 'hprice': '', 'mallName': '네이버', 'productId': '21918516129', 'productType': '1', 'brand': '레노마', 'maker': '우인에프씨씨', 'category1': '스포츠/레저', 'category2': '수영', 'category3': '여성수영복', 'category4': '원피스수영복'}, {'title': '나이키 나이키스윔 앤서 솔리드 레이서백 제트블랙 NESSA017-006', 'link': 'https://search.shopping.naver.com/gate.nhn?id=32614322414', 'image': 'https://shopping-phinf.pstatic.net/main_3261432/32614322414.20220527130446.jpg', 'lprice': '89100', 'hprice': '', 'mallName': '네이버', 'productId': '32614322414', 'productType': '1', 'brand': '나이키', 'maker': '', 'category1': '스포츠/레저', 'category2': '수영', 'category3': '여성수영복', 'category4': '원피스수영복'}]}\n"
     ]
    },
    {
     "ename": "KeyError",
     "evalue": "'description'",
     "output_type": "error",
     "traceback": [
      "\u001b[1;31m---------------------------------------------------------------------------\u001b[0m",
      "\u001b[1;31mKeyError\u001b[0m                                  Traceback (most recent call last)",
      "\u001b[1;32m~\\AppData\\Local\\Temp/ipykernel_8388/2787237045.py\u001b[0m in \u001b[0;36m<module>\u001b[1;34m\u001b[0m\n\u001b[0;32m     23\u001b[0m     \u001b[0mitems\u001b[0m\u001b[1;33m=\u001b[0m\u001b[0mres_body\u001b[0m\u001b[1;33m[\u001b[0m\u001b[1;34m'items'\u001b[0m\u001b[1;33m]\u001b[0m\u001b[1;33m\u001b[0m\u001b[1;33m\u001b[0m\u001b[0m\n\u001b[0;32m     24\u001b[0m     \u001b[1;32mfor\u001b[0m \u001b[0mitem\u001b[0m \u001b[1;32min\u001b[0m \u001b[0mitems\u001b[0m\u001b[1;33m:\u001b[0m\u001b[1;33m\u001b[0m\u001b[1;33m\u001b[0m\u001b[0m\n\u001b[1;32m---> 25\u001b[1;33m         \u001b[0mprint\u001b[0m\u001b[1;33m(\u001b[0m\u001b[0mitem\u001b[0m\u001b[1;33m[\u001b[0m\u001b[1;34m'title'\u001b[0m\u001b[1;33m]\u001b[0m\u001b[1;33m,\u001b[0m\u001b[0mitem\u001b[0m\u001b[1;33m[\u001b[0m\u001b[1;34m'description'\u001b[0m\u001b[1;33m]\u001b[0m\u001b[1;33m)\u001b[0m\u001b[1;33m\u001b[0m\u001b[1;33m\u001b[0m\u001b[0m\n\u001b[0m\u001b[0;32m     26\u001b[0m \u001b[1;32melse\u001b[0m\u001b[1;33m:\u001b[0m\u001b[1;33m\u001b[0m\u001b[1;33m\u001b[0m\u001b[0m\n\u001b[0;32m     27\u001b[0m     \u001b[0mprint\u001b[0m\u001b[1;33m(\u001b[0m\u001b[1;34m\"Error Code:\"\u001b[0m \u001b[1;33m+\u001b[0m \u001b[0mrescode\u001b[0m\u001b[1;33m)\u001b[0m\u001b[1;33m\u001b[0m\u001b[1;33m\u001b[0m\u001b[0m\n",
      "\u001b[1;31mKeyError\u001b[0m: 'description'"
     ]
    }
   ],
   "source": [
    "import os\n",
    "import sys\n",
    "import urllib.request\n",
    "import json\n",
    "\n",
    "client_id = \"GfVVDwgzBVhVJ3axFYdi\"\n",
    "client_secret = \"KOLR_FSmfd\"\n",
    "encText = urllib.parse.quote(\"수영복\")\n",
    "\n",
    "url = \"https://openapi.naver.com/v1/search/shop?query=\" + encText+'&display='+str(100) # json 결과\n",
    "# url = \"https://openapi.naver.com/v1/search/blog.xml?query=\" + encText # xml 결과\n",
    "\n",
    "request = urllib.request.Request(url)\n",
    "request.add_header(\"X-Naver-Client-Id\",client_id)\n",
    "request.add_header(\"X-Naver-Client-Secret\",client_secret)\n",
    "\n",
    "response = urllib.request.urlopen(request)\n",
    "rescode = response.getcode()\n",
    "if(rescode==200):\n",
    "    response_body = response.read()\n",
    "    res_body=json.loads(response_body.decode('utf-8'))\n",
    "    print(res_body)\n",
    "    items=res_body['items']\n",
    "    for item in items:\n",
    "        print(item['title'],item['description'])\n",
    "else:\n",
    "    print(\"Error Code:\" + rescode)"
   ]
  },
  {
   "cell_type": "code",
   "execution_count": 11,
   "id": "6ce9f89e-7542-4f26-a98b-521904ad8257",
   "metadata": {},
   "outputs": [],
   "source": [
    "import urllib.request\n",
    "import datetime\n",
    "import time\n",
    "import json\n",
    "import pandas as pd\n",
    "client_id = \"GfVVDwgzBVhVJ3axFYdi\"\n",
    "client_secret = \"KOLR_FSmfd\""
   ]
  },
  {
   "cell_type": "code",
   "execution_count": 21,
   "id": "80f162a4-8033-4200-a4a3-ca0fbfe89d83",
   "metadata": {},
   "outputs": [],
   "source": [
    "def getRequestUrl(url):\n",
    "    req=urllib.request.Request(url)\n",
    "    req.add_header('X-Naver-Client-Id',client_id)\n",
    "    req.add_header('X-Naver-Client-Secret', client_secret)\n",
    "    \n",
    "    try:\n",
    "        response=urllib.request.urlopen(req)\n",
    "        if response.getcode()==200:\n",
    "            print('[%s] Url Request Success' % datetime.datetime.now())\n",
    "            return response.read().decode('utf-8')\n",
    "    except Exception as e:\n",
    "        print(e)\n",
    "        print('[%s] Error for URL: %s'%(datetime.datetime.now(),url))\n",
    "        return None"
   ]
  },
  {
   "cell_type": "code",
   "execution_count": 35,
   "id": "0d4ea828-7edb-4086-9e19-05b15c7ccae2",
   "metadata": {},
   "outputs": [],
   "source": [
    "def getNaverSearch(node, srcText, start, display):\n",
    "    base='https://openapi.naver.com/v1/search'\n",
    "    node='/%s.json'%node\n",
    "    parameters='?query=%s&start=%s&display=%s'%(urllib.parse.quote(srcText),start,display)\n",
    "    url=base+node+parameters\n",
    "    \n",
    "    responseDecode=getRequestUrl(url)\n",
    "    \n",
    "    if responseDecode==None:\n",
    "        return None\n",
    "    else:\n",
    "        return json.loads(responseDecode)"
   ]
  },
  {
   "cell_type": "code",
   "execution_count": 45,
   "id": "840bfd6f-f16e-4b79-ad71-6df2da6fdea6",
   "metadata": {},
   "outputs": [],
   "source": [
    "def getPostData(post, jsonResult, listResult,cnt):\n",
    "    title=post['title'].replace(\"<b>\",\"\")\n",
    "    description=post['description']\n",
    "    org_link=post['originallink']\n",
    "    link=post['link']\n",
    "    \n",
    "    pDate=datetime.datetime.strptime(post['pubDate'],'%a, %d %b %Y %H:%M:%S +0900')\n",
    "    pDate=pDate.strftime('%Y-%m-%d %H:%M:%S')\n",
    "    \n",
    "    cols=['cnt','title','description','org_link','link','pDate']\n",
    "    jsonResult.append({cols[0]:cnt,cols[1]:title,cols[2]:description,\n",
    "                       cols[3]:org_link,cols[4]:link,cols[5]:pDate})\n",
    "    \n",
    "    listResult.append((cnt,title,description,org_link,link,pDate))\n",
    "    \n",
    "    return                  "
   ]
  },
  {
   "cell_type": "code",
   "execution_count": 36,
   "id": "29f61395-cdf8-4bf4-9c36-66fa3885f5bd",
   "metadata": {},
   "outputs": [],
   "source": [
    "def main():\n",
    "    node='news'\n",
    "    srcText=input('검색어을 입력하세요')\n",
    "    cnt=0\n",
    "    jsonResult=[]\n",
    "    listResult=[]\n",
    "    \n",
    "    jsonResponse=getNaverSearch(node,srcText, 1, 100)\n",
    "    total=jsonResponse['total']\n",
    "    \n",
    "    while((jsonResponse != None) and (jsonResponse['display']!=0)):\n",
    "        for item in jsonResponse['items']:\n",
    "            cnt+=1\n",
    "            getPostData(item, jsonResult, listResult,cnt)\n",
    "        \n",
    "        start=jsonResponse['start']+jsonResponse['display']\n",
    "        jsonResponse=getNaverSearch(node,srcText, start, 100)\n",
    "        \n",
    "    print('전체 검색 :%d건'%total)\n",
    "    \n",
    "    with open('%s_naver_%s.json'%(srcText,node),'w',encoding='utf8') as outfile:\n",
    "        jsonFile=json.dumps(jsonResult, indent=4, sort_keys=True, ensure_ascii=False)\n",
    "        outfile.write(jsonFile)\n",
    "        \n",
    "    cols=['cnt','title','description','org_link','link','pDate']    \n",
    "    df=pd.DataFrame(listResult,columns=cols)\n",
    "    print(df)\n",
    "    \n",
    "    print(\"가져온 데이터 :%d건\"%cnt)\n",
    "    print(\"%s_naver_%s.json SAVE\"%(srcText,node))"
   ]
  },
  {
   "cell_type": "code",
   "execution_count": 46,
   "id": "92e8c434-3400-4eea-8815-1bc107f88081",
   "metadata": {
    "collapsed": true,
    "jupyter": {
     "outputs_hidden": true
    },
    "tags": []
   },
   "outputs": [
    {
     "name": "stdin",
     "output_type": "stream",
     "text": [
      "검색어을 입력하세요 김연아\n"
     ]
    },
    {
     "name": "stdout",
     "output_type": "stream",
     "text": [
      "[2022-08-03 11:04:06.623376] Url Request Success\n",
      "[2022-08-03 11:04:06.872512] Url Request Success\n",
      "[2022-08-03 11:04:07.100956] Url Request Success\n",
      "[2022-08-03 11:04:07.331329] Url Request Success\n",
      "[2022-08-03 11:04:07.552406] Url Request Success\n",
      "[2022-08-03 11:04:07.801610] Url Request Success\n",
      "[2022-08-03 11:04:08.051282] Url Request Success\n",
      "[2022-08-03 11:04:08.321186] Url Request Success\n",
      "[2022-08-03 11:04:08.584503] Url Request Success\n",
      "[2022-08-03 11:04:08.840690] Url Request Success\n",
      "HTTP Error 400: Bad Request\n",
      "[2022-08-03 11:04:08.966648] Error for URL: https://openapi.naver.com/v1/search/news.json?query=%EA%B9%80%EC%97%B0%EC%95%84&start=1001&display=100\n",
      "전체 검색 :287905건\n",
      "      cnt                                              title  \\\n",
      "0       1                     고우림, 김연아</b> 여왕 모시듯... 조심조심 케어   \n",
      "1       2  &quot;우리 동네서 가장 유명한 사람은 누구?&quot;...각 지역 출신별 유...   \n",
      "2       3  &quot;10억도 아깝지 않다&quot;…&apos;월클 모델&apos;로 재미보...   \n",
      "3       4                          `포레스텔라&apos; 전국투어 앙코르 콘서트   \n",
      "4       5                           결혼 앞둔 손연재, 예비신랑 회사원 아니다?   \n",
      "..    ...                                                ...   \n",
      "995   996  [공식] &apos;피겨 여제&apos; 김연아</b>, 결혼한다..상대는 포레스텔...   \n",
      "996   997        고우림 &quot;♥김연아</b>와 10월 비공개 결혼한다&quot; [공식]   \n",
      "997   998  김연아</b>, &apos;팬텀싱어&apos; 가수 고우림과 10월 결혼…3년 비밀...   \n",
      "998   999                 김연아</b>♥︎고우림, 3년 열애 끝 10월 결혼[공식입장]   \n",
      "999  1000  &quot;김연아</b>♥고우림, 결혼 전제 &apos;열애&apos;&quot;…...   \n",
      "\n",
      "                                           description  \\\n",
      "0    고우림, <b>김연아</b> 여왕 모시듯... 조심조심 케어 &apos;피겨 여왕&...   \n",
      "1    경기도 지역에서는 피겨 퀸 <b>김연아</b>의 이름이 가장 크게 들어온다.부산 해...   \n",
      "2    10년 넘게 KB금융의 얼굴로 활동한 <b>김연아</b>, 2018년부터 하나금융과...   \n",
      "3    멤버 고우림은 5세 연상인 `피겨 여왕&apos; <b>김연아</b>와 오는 10월...   \n",
      "4    사진=손연재 인스타그램 <b>김연아</b>와 고우림의 결혼 소식이 전해지면서 손연재...   \n",
      "..                                                 ...   \n",
      "995  &apos;피겨 여제&apos; <b>김연아</b>와 포레스텔라 김우림이 부부가 된...   \n",
      "996  <b>김연아</b>와 열애설의 주인공 고우림이 열애 인정 뿐 아니라 공식적으로 결혼...   \n",
      "997  전 피겨스케이팅 국가대표 선수 <b>김연아</b>(32)와 그룹 포레스텔라 멤버 팝...   \n",
      "998  <b>김연아</b>와 포레스텔라 고우림이 오는 10월에 결혼한다. 25일 오전 포레...   \n",
      "999  피겨여왕 <b>김연아</b>가 열애설을 넘어 결혼설에 휩싸였다. 상대는 JTBC &...   \n",
      "\n",
      "                                              org_link  \\\n",
      "0    http://www.ggilbo.com/news/articleView.html?id...   \n",
      "1                https://www.insight.co.kr/news/406329   \n",
      "2        http://www.fnnews.com/news/202208021510187632   \n",
      "3    http://www.cctimes.kr/news/articleView.html?id...   \n",
      "4    https://www.nbntv.co.kr/news/articleView.html?...   \n",
      "..                                                 ...   \n",
      "995  http://sports.chosun.com/news/ntype.htm?id=202...   \n",
      "996  http://enews.imbc.com/News/RetrieveNewsInfo/35...   \n",
      "997             https://www.news1.kr/articles/?4752419   \n",
      "998          http://www.osen.co.kr/article/G1111903455   \n",
      "999                http://www.inews24.com/view/1503744   \n",
      "\n",
      "                                                  link                pDate  \n",
      "0    http://www.ggilbo.com/news/articleView.html?id...  2022-08-03 09:58:00  \n",
      "1                https://www.insight.co.kr/news/406329  2022-08-03 09:44:00  \n",
      "2    https://n.news.naver.com/mnews/article/014/000...  2022-08-03 05:01:00  \n",
      "3    http://www.cctimes.kr/news/articleView.html?id...  2022-08-02 20:00:00  \n",
      "4    https://www.nbntv.co.kr/news/articleView.html?...  2022-08-02 17:48:00  \n",
      "..                                                 ...                  ...  \n",
      "995  https://n.news.naver.com/mnews/article/076/000...  2022-07-25 10:38:00  \n",
      "996  https://n.news.naver.com/mnews/article/408/000...  2022-07-25 10:38:00  \n",
      "997  https://n.news.naver.com/mnews/article/421/000...  2022-07-25 10:37:00  \n",
      "998  https://n.news.naver.com/mnews/article/109/000...  2022-07-25 10:36:00  \n",
      "999  https://n.news.naver.com/mnews/article/031/000...  2022-07-25 10:36:00  \n",
      "\n",
      "[1000 rows x 6 columns]\n",
      "가져온 데이터 :1000건\n",
      "김연아_naver_news.json SAVE\n"
     ]
    }
   ],
   "source": [
    "main()"
   ]
  },
  {
   "cell_type": "code",
   "execution_count": 48,
   "id": "147c7d8b-f8fd-4966-bf92-4477e0a12b5b",
   "metadata": {},
   "outputs": [
    {
     "name": "stdout",
     "output_type": "stream",
     "text": [
      "{\"message\":{\"result\":{\"srcLangType\":\"ko\",\"tarLangType\":\"en\",\"translatedText\":\"Nice to meet you.\",\"engineType\":\"PRETRANS\",\"pivot\":null,\"dict\":null,\"tarDict\":null},\"@type\":\"response\",\"@service\":\"naverservice.nmt.proxy\",\"@version\":\"1.0.0\"}}\n"
     ]
    }
   ],
   "source": [
    "import os\n",
    "import sys\n",
    "import urllib.request\n",
    "client_id = \"1OV9C5dc2oJq8vEwA87o\" # 개발자센터에서 발급받은 Client ID 값\n",
    "client_secret = \"fzfCNzRz7w\" # 개발자센터에서 발급받은 Client Secret 값\n",
    "\n",
    "encText = urllib.parse.quote(\"반갑습니다\")\n",
    "\n",
    "data = \"source=ko&target=en&text=\" + encText\n",
    "\n",
    "url = \"https://openapi.naver.com/v1/papago/n2mt\"\n",
    "\n",
    "request = urllib.request.Request(url)\n",
    "request.add_header(\"X-Naver-Client-Id\",client_id)\n",
    "request.add_header(\"X-Naver-Client-Secret\",client_secret)\n",
    "\n",
    "response = urllib.request.urlopen(request, data=data.encode(\"utf-8\"))\n",
    "rescode = response.getcode()\n",
    "if(rescode==200):\n",
    "    response_body = response.read()\n",
    "    print(response_body.decode('utf-8'))\n",
    "else:\n",
    "    print(\"Error Code:\" + rescode)"
   ]
  },
  {
   "cell_type": "code",
   "execution_count": 51,
   "id": "3d9459a1-0eac-43a9-83b9-fdb590864326",
   "metadata": {},
   "outputs": [
    {
     "name": "stdin",
     "output_type": "stream",
     "text": [
      "번역할 문장을 입력하세요 여름휴가 어디로 가면 좋을까요?\n"
     ]
    },
    {
     "name": "stdout",
     "output_type": "stream",
     "text": [
      "Where should I go for my summer vacation?\n"
     ]
    }
   ],
   "source": [
    "encText =urllib.parse.quote(input(\"번역할 문장을 입력하세요\"))\n",
    "data = \"source=ko&target=en&text=\" + encText\n",
    "url = \"https://openapi.naver.com/v1/papago/n2mt\"\n",
    "\n",
    "request = urllib.request.Request(url)\n",
    "request.add_header(\"X-Naver-Client-Id\",client_id)\n",
    "request.add_header(\"X-Naver-Client-Secret\",client_secret)\n",
    "\n",
    "response = urllib.request.urlopen(request, data=data.encode(\"utf-8\"))\n",
    "rescode = response.getcode()\n",
    "if(rescode==200):\n",
    "    response_body =json.loads(response.read().decode('utf-8'))\n",
    "    \n",
    "    print(response_body['message']['result']['translatedText'])\n",
    "else:\n",
    "    print(\"Error Code:\" + rescode)"
   ]
  },
  {
   "cell_type": "code",
   "execution_count": null,
   "id": "ea44dda4-158a-438b-9cd1-8774fc02f6a9",
   "metadata": {},
   "outputs": [],
   "source": [
    "miya_2009@naver.com"
   ]
  },
  {
   "cell_type": "code",
   "execution_count": 58,
   "id": "a3816503-221b-4904-a0e9-41caad29ac77",
   "metadata": {},
   "outputs": [
    {
     "name": "stdout",
     "output_type": "stream",
     "text": [
      "b'<?xml version=\"1.0\" encoding=\"UTF-8\" standalone=\"yes\"?>\\n<result>\\n    <code>99</code>\\n    <message>UNKNOWN_ERROR</message>\\n</result>\\n'\n"
     ]
    }
   ],
   "source": [
    "import requests\n",
    "keys='bz6p9J0zjOTIbSrGsm6BH3B4i9IEW29rnGC6LNchn750ZVUpKW3HKr211MoqBZhOy02OyMRxsN60JqwPc0KpXQ=='\n",
    "url = 'http://apis.data.go.kr/6260000/FoodService/getFoodKr'\n",
    "params ={'serviceKey' : keys, 'pageNo' : '1', 'numOfRows' : '10', \n",
    "         'resultType' : '', 'UC_SEQ' : '' }\n",
    "\n",
    "response = requests.get(url, params=params)\n",
    "print(response.content)"
   ]
  }
 ],
 "metadata": {
  "kernelspec": {
   "display_name": "Python 3 (ipykernel)",
   "language": "python",
   "name": "python3"
  },
  "language_info": {
   "codemirror_mode": {
    "name": "ipython",
    "version": 3
   },
   "file_extension": ".py",
   "mimetype": "text/x-python",
   "name": "python",
   "nbconvert_exporter": "python",
   "pygments_lexer": "ipython3",
   "version": "3.9.7"
  }
 },
 "nbformat": 4,
 "nbformat_minor": 5
}
