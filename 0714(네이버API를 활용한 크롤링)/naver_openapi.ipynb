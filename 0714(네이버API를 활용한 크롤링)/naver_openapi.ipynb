{
 "cells": [
  {
   "cell_type": "code",
   "execution_count": 14,
   "metadata": {},
   "outputs": [
    {
     "name": "stdout",
     "output_type": "stream",
     "text": [
      "title :  [숏폼] &apos;저게 다 돈!&apos; 침수차 속출에 손보사 비상\n",
      "description :  <b>장마</b>철 집중호우로 전국이 몸살을 앓는 가운데, 손해보험사들 역시 쏟아지는 침수차 신고에 비상... 작년 수도권을 중심으로 쏟아진 물폭탄에 역대급 피해를 입었던 만큼 손보사들은 <b>장마</b>철 전부터 지자체와 손잡고 둔치... \n",
      "title :  정선 피암터널 잇단 산사태…신속 조치로 대형사고 막아\n",
      "description :  14일 정선군에 따르면 세대 피암터널 구간은 석회암지대로 <b>장마</b>철에는 산사태 위험이 높아 예찰 활동, CCTV를 통한 상시 모니터링을 진행했다. 해당 구간은 이달 6일부터 꾸준히 낙석이 발생하던 지역으로 암석이 무너져... \n",
      "title :  이병선 속초시장, 집중호우 대비 주요 현장 안전 점검\n",
      "description :  이번 현장 안전 점검은 최근 <b>장마</b>전선에 따른 호우로 인한 발생할 수 있는 사고와 재해를 예방하기 위한... 제공=속초시청 한편, 속초시는 여름 <b>장마</b>철 침수피해에 예방을 위해 관내 배수시설에 대한 수시 예찰과 지속적인... \n",
      "title :  김돈곤 청양군수 <b>장마</b>철 피해 우려 지역 점검\n",
      "description :  아주경제=(청양)허희만 기자 hmher@ajunews.com 김돈곤 청양군수 <b>장마</b>철 피해 우려 지역 점검 모습[사진=청양군] 김돈곤 청양군수가 지난 13일 <b>장마</b>철 국지성 집중호우에 대비하고 피해를 최소화하기 위해 군내 우려 지역을... \n",
      "title :  현대삼호중공업·영암군, 저소득층 건강한 여름나기 지원\n",
      "description :  14일 영암군에 따르면 이날 기탁된 성품은 저소득층 100가구에 영암군지역사회보장협의체 위원들이 <b>장마</b>철 안부를 살피며 배부할 예정이다. 현대삼호중공업 박한규 수석부장은 &quot;우리 지역 취약계층의 건강한 여름나기를... \n",
      "title :  KG 모빌리티, 수해차량 특별정비 서비스 실시\n",
      "description :  ▲ KG모빌리티,정비,<b>장마</b>,침수차,AS 렉스턴 뉴 아레나. 사진=KG모빌리티 KG 모빌리티가 여름 <b>장마</b>철 국지성 호우 및 태풍 등 자연재해로 차량 피해를 입은 고객들을 대상으로 ‘2023 수해차량 특별정비 서비스’ 캠페인을... \n",
      "title :  신안군, &apos;수국정원&apos; 수국 꽃 활짝!... 관광객 다시오라 손짓!\n",
      "description :  도초섬 수국정원에 환짝핀 수국 만개©신안군 전남 신안군 도초도 수국정원이 섬 수국축제 종료를 아쉬워하듯 <b>장마</b>철 단비에 수국 꽃이 만개해 관광객을 또 다시 유혹하고 있다. 수국정원 둘레길©신안군 신안군은... \n",
      "title :  하림X반얀트리 서울 등 협업 등 식품업계-호텔업계 &apos;미식 호캉스족&apos; 공략 나서\n",
      "description :  무더위와 <b>장마</b>가 번갈아 기승을 부리는 올 여름, 멀리 떠나지 않아도 가까운 곳에서 특별하고 여유로운 휴가를 즐길 수 있는 호캉스를 찾는 이들이 많다. 특히 올해는 폭염에 잃어버린 입맛을 돋워 줄 미식과 럭셔리한... \n",
      "title :  혹서기 ‘냉방비 폭탄’ 어쩌나…“전남도 지원대책 수립 보이지 않는다”\n",
      "description :  <b>장마</b>철 이후 8월 혹서기에 서민들이 겪을 ‘냉방비 폭탄’이 우려되면서 전남도 차원의 대책 마련이... 회의에서 “<b>장마</b>철이 끝나고 나면 무더위가 심해져 7·8월 전기요금 고지서를 받은 서민가구는 상당한 부담이 가중돼... \n",
      "title :  이재태 전남도의원, &apos;혹서기 냉방비 폭탄 지원대책 마련 촉구&apos;\n",
      "description :  회의에서 <b>장마</b>철 이후 8월 혹서기에 서민들이 겪을 &apos;냉방비 폭탄&apos;에 대한 우려를 전하고 전남도의 대책마련을 촉구했다. 이재태 전남도의원(더불어민주당, 나주3) 이 의원은 &quot;<b>장마</b>철이 끝나고 나면 무더위가 심해져 7·8월... \n"
     ]
    }
   ],
   "source": [
    "# 네이버 검색 API 예제 - 블로그 검색\n",
    "import os\n",
    "import sys\n",
    "import urllib.request\n",
    "import json\n",
    "\n",
    "client_id = \"gRbRshnY7ghYnDaZPGCZ\"\n",
    "client_secret = \"HRhKbdoShX\"\n",
    "\n",
    "encText = urllib.parse.quote(\"장마\")\n",
    "\n",
    "url = \"https://openapi.naver.com/v1/search/news?query=\" + encText #+ '&display=' + str(100) # JSON 결과(디폴트)\n",
    "# url = \"https://openapi.naver.com/v1/search/blog.xml?query=\" + encText # XML로 가져오고 싶으면 xml을 써주자\n",
    "request = urllib.request.Request(url)\n",
    "\n",
    "request.add_header(\"X-Naver-Client-Id\",client_id)\n",
    "request.add_header(\"X-Naver-Client-Secret\",client_secret)\n",
    "response = urllib.request.urlopen(request)\n",
    "rescode = response.getcode()\n",
    "if(rescode==200):\n",
    "    response_body = response.read()\n",
    "    res_body = json.loads(response_body.decode('utf-8'))\n",
    "    for item in res_body['items']:\n",
    "        print('title : ', item['title'])\n",
    "        print('description : ', item['description'] )\n",
    "    # print(response_body.decode('utf-8'))\n",
    "    \n",
    "else:\n",
    "    print(\"Error Code:\" + rescode)"
   ]
  }
 ],
 "metadata": {
  "kernelspec": {
   "display_name": "base",
   "language": "python",
   "name": "python3"
  },
  "language_info": {
   "codemirror_mode": {
    "name": "ipython",
    "version": 3
   },
   "file_extension": ".py",
   "mimetype": "text/x-python",
   "name": "python",
   "nbconvert_exporter": "python",
   "pygments_lexer": "ipython3",
   "version": "3.10.9"
  },
  "orig_nbformat": 4
 },
 "nbformat": 4,
 "nbformat_minor": 2
}
