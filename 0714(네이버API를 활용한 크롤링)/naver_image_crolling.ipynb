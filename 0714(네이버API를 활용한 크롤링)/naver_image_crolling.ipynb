{
 "cells": [
  {
   "cell_type": "code",
   "execution_count": 1,
   "metadata": {},
   "outputs": [
    {
     "name": "stdout",
     "output_type": "stream",
     "text": [
      "['http://imgnews.naver.net/image/5691/2023/04/19/0000007299_020_20230419225603375.jpg', 'http://post.phinf.naver.net/MjAyMjEyMTZfOTAg/MDAxNjcxMTgxNzYzNTkw.hqs5aBbSyGbZqb5-GJ2UzcB2yX0JWEVlrOjeqs01vSgg.wQzdKRrWchRef67peRQPhCspGXuGcbHY1tYL5WNFURog.JPEG/Ia2nd2Wl-RgegkNVVnj2RXAu7I7k.jpg', 'http://imgnews.naver.net/image/5691/2023/05/03/0000007369_022_20230503164003281.jpg', 'http://post.phinf.naver.net/MjAyMjEyMTdfMTkx/MDAxNjcxMjc5MjkxMDY4.PtEpx9meEYfqqmxegQ7pvKEOCLQxz-2ugbCRS6t8lfAg.Efc0JhGraUZXpV6z3vnzXe70YSvirQBxj5sCZ1rwg6Ig.JPEG/IHRsXb1Ldkc-y08FJMN5D3gfmOZs.jpg', 'https://modo-phinf.pstatic.net/20221115_262/1668498384586eNJ1E_JPEG/mosalQjuVV.jpeg', 'http://post.phinf.naver.net/MjAyMjEyMTlfNTAg/MDAxNjcxNDI2NTA3NjY0.odIiASK6SQVMzDNEqrlEI7cjBJsnaNvF0Na4aDf2-Log.NPIy7WiiOeC9FSFpNmOMqRgMZVAAvHkGpMvhaRGwzkMg.JPEG/IyuRNIm-jjQ1txxYytfoyCjvd1oc.jpg', 'http://post.phinf.naver.net/MjAyMjEyMTNfMTcy/MDAxNjcwOTE0MDc4NzA3.Z0EPeQnNbBx523yHE90Ss9nlSXoxDnRL0pxQFoqddl8g.YempwNbhiS6DYfW1uO-KwFnGwr1A5fhbA2Sq_8zUno4g.JPEG/IhTyLz6CR0e6hGL2q8nPiiekbqXU.jpg', 'http://post.phinf.naver.net/MjAyMTA3MTVfMTgy/MDAxNjI2MzQxNTI1MDUz.rv9HycPEYK4xe5CrxcOQHSFBZSdrkgr3H5GkV5ZTbN4g.KvmV4gaYxTgZNghtdTfkhT-vkTmFCkT9VKy5e1_jfzQg.JPEG/IqwrUtNBi9QTIRtimOJ81neFg3zc.jpg', 'https://mp-seoul-image-production-s3.mangoplate.com/496921/1921380_1662734609852_57800?fit=around%7C512:512&crop=512:512;*,*&output-format=jpg&output-quality=80', 'http://post.phinf.naver.net/MjAyMjA4MjJfNTkg/MDAxNjYxMTMxMTA0ODcw.WMNX4mtrYLXXG0Pj1QdBdP6GbxU5cpL2wWmNPzLHc98g.gCVdDb7DkyL1Dnztv0pvbMXQfNEM3XE-r4ryj1t9A8kg.JPEG/I4aM_mvasB1Mcyk1R2z2d8Cu5nFI.jpg']\n"
     ]
    }
   ],
   "source": [
    "# 네이버 검색 API 예제 - 블로그 검색\n",
    "import os\n",
    "import sys\n",
    "import urllib.request\n",
    "import json\n",
    "\n",
    "client_id = \"gRbRshnY7ghYnDaZPGCZ\"\n",
    "client_secret = \"HRhKbdoShX\"\n",
    "\n",
    "encText = urllib.parse.quote(\"맛집\")\n",
    "\n",
    "url = \"https://openapi.naver.com/v1/search/image?query=\" + encText + '&display=' + str(10) # JSON 결과(디폴트)\n",
    "# url = \"https://openapi.naver.com/v1/search/blog.xml?query=\" + encText # XML로 가져오고 싶으면 xml을 써주자\n",
    "request = urllib.request.Request(url)\n",
    "\n",
    "request.add_header(\"X-Naver-Client-Id\",client_id)\n",
    "request.add_header(\"X-Naver-Client-Secret\",client_secret)\n",
    "\n",
    "response = urllib.request.urlopen(request)\n",
    "rescode = response.getcode()\n",
    "\n",
    "img_link_list=[]\n",
    "\n",
    "if(rescode==200):\n",
    "    response_body = response.read()\n",
    "    res_body = json.loads(response_body.decode('utf-8'))\n",
    "    #가져오는 데이터 확인용\n",
    "    # print(response_body.decode('utf-8'))\n",
    "    for item in res_body['items']:\n",
    "        img_link_list.append(item['link'])\n",
    "    print(img_link_list)\n",
    "    \n",
    "else:\n",
    "    print(\"Error Code:\" + rescode)"
   ]
  },
  {
   "cell_type": "code",
   "execution_count": 2,
   "metadata": {},
   "outputs": [
    {
     "name": "stdout",
     "output_type": "stream",
     "text": [
      "http://imgnews.naver.net/image/5691/2023/04/19/0000007299_020_20230419225603375.jpg 저장성공\n",
      "http://post.phinf.naver.net/MjAyMjEyMTZfOTAg/MDAxNjcxMTgxNzYzNTkw.hqs5aBbSyGbZqb5-GJ2UzcB2yX0JWEVlrOjeqs01vSgg.wQzdKRrWchRef67peRQPhCspGXuGcbHY1tYL5WNFURog.JPEG/Ia2nd2Wl-RgegkNVVnj2RXAu7I7k.jpg 저장성공\n",
      "http://imgnews.naver.net/image/5691/2023/05/03/0000007369_022_20230503164003281.jpg 저장성공\n",
      "http://post.phinf.naver.net/MjAyMjEyMTdfMTkx/MDAxNjcxMjc5MjkxMDY4.PtEpx9meEYfqqmxegQ7pvKEOCLQxz-2ugbCRS6t8lfAg.Efc0JhGraUZXpV6z3vnzXe70YSvirQBxj5sCZ1rwg6Ig.JPEG/IHRsXb1Ldkc-y08FJMN5D3gfmOZs.jpg 저장성공\n",
      "https://modo-phinf.pstatic.net/20221115_262/1668498384586eNJ1E_JPEG/mosalQjuVV.jpeg 저장성공\n",
      "http://post.phinf.naver.net/MjAyMjEyMTlfNTAg/MDAxNjcxNDI2NTA3NjY0.odIiASK6SQVMzDNEqrlEI7cjBJsnaNvF0Na4aDf2-Log.NPIy7WiiOeC9FSFpNmOMqRgMZVAAvHkGpMvhaRGwzkMg.JPEG/IyuRNIm-jjQ1txxYytfoyCjvd1oc.jpg 저장성공\n",
      "http://post.phinf.naver.net/MjAyMjEyMTNfMTcy/MDAxNjcwOTE0MDc4NzA3.Z0EPeQnNbBx523yHE90Ss9nlSXoxDnRL0pxQFoqddl8g.YempwNbhiS6DYfW1uO-KwFnGwr1A5fhbA2Sq_8zUno4g.JPEG/IhTyLz6CR0e6hGL2q8nPiiekbqXU.jpg 저장성공\n",
      "http://post.phinf.naver.net/MjAyMTA3MTVfMTgy/MDAxNjI2MzQxNTI1MDUz.rv9HycPEYK4xe5CrxcOQHSFBZSdrkgr3H5GkV5ZTbN4g.KvmV4gaYxTgZNghtdTfkhT-vkTmFCkT9VKy5e1_jfzQg.JPEG/IqwrUtNBi9QTIRtimOJ81neFg3zc.jpg 저장성공\n",
      "https://mp-seoul-image-production-s3.mangoplate.com/496921/1921380_1662734609852_57800?fit=around%7C512:512&crop=512:512;*,*&output-format=jpg&output-quality=80 저장실패\n",
      "http://post.phinf.naver.net/MjAyMjA4MjJfNTkg/MDAxNjYxMTMxMTA0ODcw.WMNX4mtrYLXXG0Pj1QdBdP6GbxU5cpL2wWmNPzLHc98g.gCVdDb7DkyL1Dnztv0pvbMXQfNEM3XE-r4ryj1t9A8kg.JPEG/I4aM_mvasB1Mcyk1R2z2d8Cu5nFI.jpg 저장성공\n"
     ]
    }
   ],
   "source": [
    "i=1\n",
    "for link in img_link_list:\n",
    "    save_name='data/img'+str(i)+\".jpg\"\n",
    "    try:\n",
    "        urllib.request.urlretrieve(link,save_name)\n",
    "        print(link, '저장성공')\n",
    "        i+=1\n",
    "    except:\n",
    "        print(link, '저장실패')        \n"
   ]
  }
 ],
 "metadata": {
  "kernelspec": {
   "display_name": "base",
   "language": "python",
   "name": "python3"
  },
  "language_info": {
   "codemirror_mode": {
    "name": "ipython",
    "version": 3
   },
   "file_extension": ".py",
   "mimetype": "text/x-python",
   "name": "python",
   "nbconvert_exporter": "python",
   "pygments_lexer": "ipython3",
   "version": "3.10.9"
  },
  "orig_nbformat": 4
 },
 "nbformat": 4,
 "nbformat_minor": 2
}
