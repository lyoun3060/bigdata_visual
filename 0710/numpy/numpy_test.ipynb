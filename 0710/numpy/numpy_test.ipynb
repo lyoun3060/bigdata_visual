{
 "cells": [
  {
   "cell_type": "code",
   "execution_count": 3,
   "metadata": {},
   "outputs": [
    {
     "name": "stdout",
     "output_type": "stream",
     "text": [
      "[1, 2, 3, 4, 5] <class 'list'>\n",
      "[1 2 3 4 5] <class 'numpy.ndarray'>\n"
     ]
    }
   ],
   "source": [
    "import numpy as np\n",
    "\n",
    "\n",
    "a=[1,2,3,4,5]\n",
    "b=np.array(a)\n",
    "print(a, type(a))\n",
    "print(b, type(b))"
   ]
  },
  {
   "cell_type": "code",
   "execution_count": 5,
   "metadata": {},
   "outputs": [
    {
     "name": "stdout",
     "output_type": "stream",
     "text": [
      "[1 3 5 7 9] <class 'numpy.ndarray'> (5,)\n"
     ]
    }
   ],
   "source": [
    "b=np.arange(1,10,2)\n",
    "print(b, type(b), b.shape)"
   ]
  },
  {
   "cell_type": "code",
   "execution_count": 7,
   "metadata": {},
   "outputs": [
    {
     "ename": "AttributeError",
     "evalue": "'numpy.ndarray' object has no attribute 'shpae'",
     "output_type": "error",
     "traceback": [
      "\u001b[1;31m---------------------------------------------------------------------------\u001b[0m",
      "\u001b[1;31mAttributeError\u001b[0m                            Traceback (most recent call last)",
      "Cell \u001b[1;32mIn[7], line 3\u001b[0m\n\u001b[0;32m      1\u001b[0m a\u001b[39m=\u001b[39m[[\u001b[39m1\u001b[39m,\u001b[39m2\u001b[39m,\u001b[39m3\u001b[39m], [\u001b[39m4\u001b[39m,\u001b[39m5\u001b[39m,\u001b[39m6\u001b[39m]]\n\u001b[0;32m      2\u001b[0m b\u001b[39m=\u001b[39mnp\u001b[39m.\u001b[39marray(a)\n\u001b[1;32m----> 3\u001b[0m \u001b[39mprint\u001b[39m(b, b\u001b[39m.\u001b[39;49mshpae)\n",
      "\u001b[1;31mAttributeError\u001b[0m: 'numpy.ndarray' object has no attribute 'shpae'"
     ]
    }
   ],
   "source": [
    "a=[[1,2,3], [4,5,6]]\n",
    "b=np.array(a)\n",
    "print(b, b.shpae)"
   ]
  },
  {
   "cell_type": "code",
   "execution_count": 10,
   "metadata": {},
   "outputs": [
    {
     "name": "stdout",
     "output_type": "stream",
     "text": [
      "[[1 2 3]\n",
      " [4 5 6]]\n",
      "[[1 2]\n",
      " [3 4]\n",
      " [5 6]]\n"
     ]
    }
   ],
   "source": [
    "a=[1,2,3,4,5,6]\n",
    "b=np.array(a).reshape(2,3);\n",
    "c=np.array(a).reshape(3,2);\n",
    "print(b)\n",
    "print(c)"
   ]
  },
  {
   "cell_type": "code",
   "execution_count": 13,
   "metadata": {},
   "outputs": [
    {
     "name": "stdout",
     "output_type": "stream",
     "text": [
      "[1 2 3]\n",
      "5\n",
      "[2 5]\n"
     ]
    }
   ],
   "source": [
    "print(b[0])\n",
    "print(b[1][1])\n",
    "print(b[:,1])"
   ]
  },
  {
   "cell_type": "code",
   "execution_count": 24,
   "metadata": {},
   "outputs": [
    {
     "name": "stdout",
     "output_type": "stream",
     "text": [
      "[[1, 2, 3], [4, 5, 6], [1, 2, 3], [4, 5, 6], [1, 2, 3], [4, 5, 6], [1, 2, 3], [4, 5, 6]]\n",
      "[[ 3  6  9]\n",
      " [12 15 18]]\n"
     ]
    }
   ],
   "source": [
    "print(a*4)\n",
    "print(b*3)"
   ]
  },
  {
   "cell_type": "code",
   "execution_count": 28,
   "metadata": {},
   "outputs": [
    {
     "name": "stdout",
     "output_type": "stream",
     "text": [
      "[1, 2, 3, 4, 5, 6]\n",
      "[4 5 6 7]\n",
      "[0 1 2 3]\n",
      "[2 4 6 8]\n",
      "[0.5 1.  1.5 2. ]\n",
      "[0 1 1 2]\n",
      "[1 0 1 0]\n"
     ]
    }
   ],
   "source": [
    "aa=[1,2,3,4]\n",
    "bb=[5,6]\n",
    "arr1=np.array(aa)\n",
    "arr2=np.array(bb)\n",
    "print(aa+bb)\n",
    "print(arr1+3)\n",
    "print(arr1-1)\n",
    "print(arr1*2)\n",
    "print(arr1/2)\n",
    "print(arr1//2)\n",
    "print(arr1%2)"
   ]
  },
  {
   "cell_type": "code",
   "execution_count": 31,
   "metadata": {},
   "outputs": [
    {
     "name": "stdout",
     "output_type": "stream",
     "text": [
      "[[1 1 1]\n",
      " [2 2 2]\n",
      " [3 3 3]]\n",
      "[1 2 3]\n",
      "[[2 3 4]\n",
      " [3 4 5]\n",
      " [4 5 6]]\n"
     ]
    }
   ],
   "source": [
    "a1=[[1,1,1],[2,2,2],[3,3,3]]\n",
    "a2=[1,2,3]\n",
    "\n",
    "b1=np.array(a1)\n",
    "b2=np.array(a2)\n",
    "\n",
    "print(b1)\n",
    "print(b2)\n",
    "\n",
    "print(b1+b2)"
   ]
  },
  {
   "cell_type": "code",
   "execution_count": 41,
   "metadata": {},
   "outputs": [
    {
     "name": "stdout",
     "output_type": "stream",
     "text": [
      "[[1 1 1]\n",
      " [2 2 2]\n",
      " [3 3 3]]\n",
      "18\n",
      "18\n",
      "[3 6 9]\n",
      "-------------\n",
      "2.0\n",
      "[[1.         1.         1.        ]\n",
      " [1.41421356 1.41421356 1.41421356]\n",
      " [1.73205081 1.73205081 1.73205081]]\n",
      "3\n",
      "1\n",
      "[[0.         0.         0.        ]\n",
      " [0.69314718 0.69314718 0.69314718]\n",
      " [1.09861229 1.09861229 1.09861229]]\n"
     ]
    }
   ],
   "source": [
    "print(b1)\n",
    "print(b1.sum())\n",
    "print(np.sum(b1))\n",
    "print(b1.sum(axis=1))\n",
    "\n",
    "print(\"-------------\")\n",
    "\n",
    "print(np.mean(b1))\n",
    "print(np.sqrt(b1))\n",
    "print(np.max(b1))\n",
    "print(np.min(b1))\n",
    "print(np.log(b1))"
   ]
  },
  {
   "cell_type": "code",
   "execution_count": 47,
   "metadata": {},
   "outputs": [
    {
     "name": "stdout",
     "output_type": "stream",
     "text": [
      "[[3 4 5]\n",
      " [1 2 5]\n",
      " [6 7 9]]\n",
      "[[3 4 5]\n",
      " [1 2 5]\n",
      " [6 7 9]]\n",
      "[[1 2 5]\n",
      " [3 4 5]\n",
      " [6 7 9]]\n",
      "[[6 7 9]\n",
      " [3 4 5]\n",
      " [1 2 5]]\n",
      "[[5 4 3]\n",
      " [5 2 1]\n",
      " [9 7 6]]\n"
     ]
    },
    {
     "ename": "TypeError",
     "evalue": "'>=' not supported between instances of 'list' and 'int'",
     "output_type": "error",
     "traceback": [
      "\u001b[1;31m---------------------------------------------------------------------------\u001b[0m",
      "\u001b[1;31mTypeError\u001b[0m                                 Traceback (most recent call last)",
      "Cell \u001b[1;32mIn[47], line 8\u001b[0m\n\u001b[0;32m      5\u001b[0m \u001b[39mprint\u001b[39m(np\u001b[39m.\u001b[39msort(arr1,axis\u001b[39m=\u001b[39m\u001b[39m0\u001b[39m)[::\u001b[39m-\u001b[39m\u001b[39m1\u001b[39m,::])\n\u001b[0;32m      6\u001b[0m \u001b[39mprint\u001b[39m(np\u001b[39m.\u001b[39msort(arr1, axis\u001b[39m=\u001b[39m\u001b[39m1\u001b[39m)[::,::\u001b[39m-\u001b[39m\u001b[39m1\u001b[39m])\n\u001b[1;32m----> 8\u001b[0m \u001b[39mprint\u001b[39m(arr1\u001b[39m>\u001b[39;49m\u001b[39m=\u001b[39;49m\u001b[39m5\u001b[39;49m)\n",
      "\u001b[1;31mTypeError\u001b[0m: '>=' not supported between instances of 'list' and 'int'"
     ]
    }
   ],
   "source": [
    "arr1 = [[3,4,5],[1,2,5],[6,7,9]]\n",
    "print(np.sort(arr1))\n",
    "print(np.sort(arr1, axis=1))\n",
    "print(np.sort(arr1, axis=0))\n",
    "print(np.sort(arr1,axis=0)[::-1,::])\n",
    "print(np.sort(arr1, axis=1)[::,::-1])\n",
    "\n"
   ]
  },
  {
   "cell_type": "code",
   "execution_count": 51,
   "metadata": {},
   "outputs": [
    {
     "name": "stdout",
     "output_type": "stream",
     "text": [
      "[[3 4 5]\n",
      " [1 2 5]\n",
      " [6 7 9]]\n",
      "[[False False  True]\n",
      " [False False  True]\n",
      " [ True  True  True]]\n"
     ]
    }
   ],
   "source": [
    "\n",
    "arr1 = np.array(arr1)\n",
    "print(arr1)\n",
    "print(arr1>=5)"
   ]
  },
  {
   "cell_type": "code",
   "execution_count": 56,
   "metadata": {},
   "outputs": [
    {
     "name": "stdout",
     "output_type": "stream",
     "text": [
      "[0. 0. 0. 0. 0. 0. 0. 0. 0. 0.]\n",
      "[[1. 1. 1.]\n",
      " [1. 1. 1.]\n",
      " [1. 1. 1.]]\n",
      "[[1. 1. 1.]\n",
      " [1. 1. 1.]\n",
      " [1. 1. 1.]]\n"
     ]
    }
   ],
   "source": [
    "#0,1으로 변수 세팅하기\n",
    "a1 = np.zeros(10)\n",
    "a2 = np.ones([3,3])\n",
    "#ones_like(변수) = 변수크기만큼 1로채워라\n",
    "b1 = np.ones_like(a2) \n",
    "print(a1)\n",
    "print(a2)\n",
    "print(b1)"
   ]
  }
 ],
 "metadata": {
  "kernelspec": {
   "display_name": "base",
   "language": "python",
   "name": "python3"
  },
  "language_info": {
   "codemirror_mode": {
    "name": "ipython",
    "version": 3
   },
   "file_extension": ".py",
   "mimetype": "text/x-python",
   "name": "python",
   "nbconvert_exporter": "python",
   "pygments_lexer": "ipython3",
   "version": "3.10.9"
  },
  "orig_nbformat": 4
 },
 "nbformat": 4,
 "nbformat_minor": 2
}
